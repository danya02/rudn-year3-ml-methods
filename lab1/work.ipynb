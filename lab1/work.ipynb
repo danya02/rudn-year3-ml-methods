{
 "cells": [
  {
   "cell_type": "markdown",
   "metadata": {
    "id": "bkvu6piHt3ra"
   },
   "source": [
    "### РОССИЙСКИЙ УНИВЕРСИТЕТ ДРУЖБЫ НАРОДОВ\n",
    "\n",
    "#### Факультет физико-математических и естественных наук  \n",
    "#### Кафедра математического моделирования и искусственного интеллекта "
   ]
  },
  {
   "cell_type": "markdown",
   "metadata": {
    "id": "djXIWnpjt3rf"
   },
   "source": [
    "## ОТЧЕТ ПО КОНТРОЛЬНОЙ РАБОТЕ № 1\n",
    "\n",
    "\n",
    "### Дисциплина: Методы машинного обучения"
   ]
  },
  {
   "cell_type": "markdown",
   "metadata": {
    "id": "fo_ynhTst3rg"
   },
   "source": [
    "##### Студент:  Генералов Даниил\n",
    "##### Группа:   НПИбд-01-21"
   ]
  },
  {
   "cell_type": "markdown",
   "metadata": {
    "id": "TbvGIymht3rh"
   },
   "source": [
    "## Москва 2024\n",
    "***"
   ]
  },
  {
   "cell_type": "markdown",
   "metadata": {
    "id": "avs03Eqmt3rh"
   },
   "source": [
    "### Вариант №22\n",
    "\n",
    "Текст задания:\n",
    "\n",
    "1. Набор данных: howell \n",
    "\n",
    "2. Независимая переменная: height \n",
    "\n",
    "3. Зависимая переменная: weight \n",
    "\n",
    "4. Визуализация для независимой переменной – столбчатая диаграмма \n",
    "\n",
    "5. Визуализация для зависимой переменной – эмпирическая плотность распределения \n",
    "\n",
    "6. Показатель качества регрессии – R^2 (коэффициент детерминации) \n",
    "\n"
   ]
  },
  {
   "cell_type": "markdown",
   "metadata": {},
   "source": [
    "# 1: загружаем данные"
   ]
  },
  {
   "cell_type": "code",
   "execution_count": 1,
   "metadata": {},
   "outputs": [
    {
     "name": "stderr",
     "output_type": "stream",
     "text": [
      "2024-04-19 04:16:47.434924: I tensorflow/core/platform/cpu_feature_guard.cc:210] This TensorFlow binary is optimized to use available CPU instructions in performance-critical operations.\n",
      "To enable the following instructions: AVX2 FMA, in other operations, rebuild TensorFlow with the appropriate compiler flags.\n",
      "2024-04-19 04:16:48.904056: W tensorflow/compiler/tf2tensorrt/utils/py_utils.cc:38] TF-TRT Warning: Could not find TensorRT\n"
     ]
    }
   ],
   "source": [
    "try:\n",
    "    import tensorflow as tf\n",
    "    import tensorflow_datasets as tfds\n",
    "    import matplotlib.pyplot as plt\n",
    "    import pandas\n",
    "    import numpy as np\n",
    "except ImportError:\n",
    "    !pip3 install tensorflow\n",
    "    !pip3 install tfds-nightly\n",
    "    !pip3 install matplotlib\n",
    "    !pip3 install pandas\n",
    "    !pip3 install numpy\n",
    "    import tensorflow as tf\n",
    "    import tensorflow_datasets as tfds\n",
    "    import matplotlib.pyplot as plt\n",
    "    import pandas\n",
    "    import numpy as np"
   ]
  },
  {
   "cell_type": "code",
   "execution_count": 2,
   "metadata": {},
   "outputs": [],
   "source": [
    "from IPython import display as D\n",
    "disp = D.display\n",
    "MD = D.Markdown"
   ]
  },
  {
   "cell_type": "code",
   "execution_count": 3,
   "metadata": {
    "scrolled": true
   },
   "outputs": [
    {
     "name": "stderr",
     "output_type": "stream",
     "text": [
      "WARNING:absl:You use TensorFlow DType <dtype: 'float32'> in tfds.features This will soon be deprecated in favor of NumPy DTypes. In the meantime it was converted to float32.\n",
      "WARNING:absl:You use TensorFlow DType <dtype: 'int32'> in tfds.features This will soon be deprecated in favor of NumPy DTypes. In the meantime it was converted to int32.\n",
      "2024-04-19 04:16:51.395662: E external/local_xla/xla/stream_executor/cuda/cuda_driver.cc:282] failed call to cuInit: CUDA_ERROR_NO_DEVICE: no CUDA-capable device is detected\n",
      "2024-04-19 04:16:51.776731: W tensorflow/core/framework/local_rendezvous.cc:404] Local rendezvous is aborting with status: OUT_OF_RANGE: End of sequence\n"
     ]
    },
    {
     "data": {
      "text/html": [
       "<div>\n",
       "<style scoped>\n",
       "    .dataframe tbody tr th:only-of-type {\n",
       "        vertical-align: middle;\n",
       "    }\n",
       "\n",
       "    .dataframe tbody tr th {\n",
       "        vertical-align: top;\n",
       "    }\n",
       "\n",
       "    .dataframe thead th {\n",
       "        text-align: right;\n",
       "    }\n",
       "</style>\n",
       "<table border=\"1\" class=\"dataframe\">\n",
       "  <thead>\n",
       "    <tr style=\"text-align: right;\">\n",
       "      <th></th>\n",
       "      <th>age</th>\n",
       "      <th>height</th>\n",
       "      <th>male</th>\n",
       "      <th>weight</th>\n",
       "    </tr>\n",
       "  </thead>\n",
       "  <tbody>\n",
       "    <tr>\n",
       "      <th>0</th>\n",
       "      <td>20.0</td>\n",
       "      <td>154.899994</td>\n",
       "      <td>1</td>\n",
       "      <td>38.200001</td>\n",
       "    </tr>\n",
       "    <tr>\n",
       "      <th>1</th>\n",
       "      <td>21.0</td>\n",
       "      <td>155.574997</td>\n",
       "      <td>0</td>\n",
       "      <td>45.529297</td>\n",
       "    </tr>\n",
       "    <tr>\n",
       "      <th>2</th>\n",
       "      <td>21.0</td>\n",
       "      <td>146.050003</td>\n",
       "      <td>0</td>\n",
       "      <td>44.763859</td>\n",
       "    </tr>\n",
       "    <tr>\n",
       "      <th>3</th>\n",
       "      <td>21.0</td>\n",
       "      <td>163.830002</td>\n",
       "      <td>1</td>\n",
       "      <td>46.776676</td>\n",
       "    </tr>\n",
       "    <tr>\n",
       "      <th>4</th>\n",
       "      <td>18.0</td>\n",
       "      <td>149.225006</td>\n",
       "      <td>0</td>\n",
       "      <td>42.127357</td>\n",
       "    </tr>\n",
       "  </tbody>\n",
       "</table>\n",
       "</div>"
      ],
      "text/plain": [
       "    age      height  male     weight\n",
       "0  20.0  154.899994     1  38.200001\n",
       "1  21.0  155.574997     0  45.529297\n",
       "2  21.0  146.050003     0  44.763859\n",
       "3  21.0  163.830002     1  46.776676\n",
       "4  18.0  149.225006     0  42.127357"
      ]
     },
     "execution_count": 3,
     "metadata": {},
     "output_type": "execute_result"
    }
   ],
   "source": [
    "data = tfds.load('howell', split='train')\n",
    "df = tfds.as_dataframe(data)\n",
    "df.head()"
   ]
  },
  {
   "cell_type": "code",
   "execution_count": 4,
   "metadata": {},
   "outputs": [
    {
     "name": "stdout",
     "output_type": "stream",
     "text": [
      "<class 'tensorflow_datasets.core.as_dataframe.as_dataframe.<locals>.StyledDataFrame'>\n",
      "RangeIndex: 544 entries, 0 to 543\n",
      "Data columns (total 4 columns):\n",
      " #   Column  Non-Null Count  Dtype  \n",
      "---  ------  --------------  -----  \n",
      " 0   age     544 non-null    float32\n",
      " 1   height  544 non-null    float32\n",
      " 2   male    544 non-null    int32  \n",
      " 3   weight  544 non-null    float32\n",
      "dtypes: float32(3), int32(1)\n",
      "memory usage: 8.6 KB\n"
     ]
    }
   ],
   "source": [
    "df.info()"
   ]
  },
  {
   "cell_type": "code",
   "execution_count": 5,
   "metadata": {},
   "outputs": [
    {
     "data": {
      "text/html": [
       "<div>\n",
       "<style scoped>\n",
       "    .dataframe tbody tr th:only-of-type {\n",
       "        vertical-align: middle;\n",
       "    }\n",
       "\n",
       "    .dataframe tbody tr th {\n",
       "        vertical-align: top;\n",
       "    }\n",
       "\n",
       "    .dataframe thead th {\n",
       "        text-align: right;\n",
       "    }\n",
       "</style>\n",
       "<table border=\"1\" class=\"dataframe\">\n",
       "  <thead>\n",
       "    <tr style=\"text-align: right;\">\n",
       "      <th></th>\n",
       "      <th>age</th>\n",
       "      <th>height</th>\n",
       "      <th>weight</th>\n",
       "    </tr>\n",
       "  </thead>\n",
       "  <tbody>\n",
       "    <tr>\n",
       "      <th>0</th>\n",
       "      <td>20.0</td>\n",
       "      <td>154.899994</td>\n",
       "      <td>38.200001</td>\n",
       "    </tr>\n",
       "    <tr>\n",
       "      <th>1</th>\n",
       "      <td>21.0</td>\n",
       "      <td>155.574997</td>\n",
       "      <td>45.529297</td>\n",
       "    </tr>\n",
       "    <tr>\n",
       "      <th>2</th>\n",
       "      <td>21.0</td>\n",
       "      <td>146.050003</td>\n",
       "      <td>44.763859</td>\n",
       "    </tr>\n",
       "    <tr>\n",
       "      <th>3</th>\n",
       "      <td>21.0</td>\n",
       "      <td>163.830002</td>\n",
       "      <td>46.776676</td>\n",
       "    </tr>\n",
       "    <tr>\n",
       "      <th>4</th>\n",
       "      <td>18.0</td>\n",
       "      <td>149.225006</td>\n",
       "      <td>42.127357</td>\n",
       "    </tr>\n",
       "  </tbody>\n",
       "</table>\n",
       "</div>"
      ],
      "text/plain": [
       "    age      height     weight\n",
       "0  20.0  154.899994  38.200001\n",
       "1  21.0  155.574997  45.529297\n",
       "2  21.0  146.050003  44.763859\n",
       "3  21.0  163.830002  46.776676\n",
       "4  18.0  149.225006  42.127357"
      ]
     },
     "execution_count": 5,
     "metadata": {},
     "output_type": "execute_result"
    }
   ],
   "source": [
    "df = df.drop(columns=['male'])\n",
    "df.head()"
   ]
  },
  {
   "cell_type": "markdown",
   "metadata": {},
   "source": [
    "# 6.1: разбиение на test/train\n"
   ]
  },
  {
   "cell_type": "code",
   "execution_count": 6,
   "metadata": {},
   "outputs": [
    {
     "data": {
      "text/plain": [
       "(416, 128)"
      ]
     },
     "execution_count": 6,
     "metadata": {},
     "output_type": "execute_result"
    }
   ],
   "source": [
    "import random\n",
    "random.seed('Генералов Даниил')\n",
    "test_ratio = 0.2\n",
    "\n",
    "train = pandas.DataFrame(columns=df.columns)\n",
    "test = pandas.DataFrame(columns=df.columns)\n",
    "for row_idx in range(len(df)):\n",
    "    row = df.loc[row_idx, :]\n",
    "    if random.random() < test_ratio:\n",
    "        test.loc[len(test), :] = row\n",
    "    else:\n",
    "        train.loc[len(train), :] = row\n",
    "\n",
    "len(train), len(test)"
   ]
  },
  {
   "cell_type": "markdown",
   "metadata": {},
   "source": [
    "# 1: анализ данных\n"
   ]
  },
  {
   "cell_type": "code",
   "execution_count": 7,
   "metadata": {},
   "outputs": [
    {
     "data": {
      "text/markdown": [
       "## Матрица корреляции:"
      ],
      "text/plain": [
       "<IPython.core.display.Markdown object>"
      ]
     },
     "metadata": {},
     "output_type": "display_data"
    },
    {
     "data": {
      "text/html": [
       "<div>\n",
       "<style scoped>\n",
       "    .dataframe tbody tr th:only-of-type {\n",
       "        vertical-align: middle;\n",
       "    }\n",
       "\n",
       "    .dataframe tbody tr th {\n",
       "        vertical-align: top;\n",
       "    }\n",
       "\n",
       "    .dataframe thead th {\n",
       "        text-align: right;\n",
       "    }\n",
       "</style>\n",
       "<table border=\"1\" class=\"dataframe\">\n",
       "  <thead>\n",
       "    <tr style=\"text-align: right;\">\n",
       "      <th></th>\n",
       "      <th>age</th>\n",
       "      <th>height</th>\n",
       "      <th>weight</th>\n",
       "    </tr>\n",
       "  </thead>\n",
       "  <tbody>\n",
       "    <tr>\n",
       "      <th>age</th>\n",
       "      <td>1.000000</td>\n",
       "      <td>0.697215</td>\n",
       "      <td>0.690052</td>\n",
       "    </tr>\n",
       "    <tr>\n",
       "      <th>height</th>\n",
       "      <td>0.697215</td>\n",
       "      <td>1.000000</td>\n",
       "      <td>0.941922</td>\n",
       "    </tr>\n",
       "    <tr>\n",
       "      <th>weight</th>\n",
       "      <td>0.690052</td>\n",
       "      <td>0.941922</td>\n",
       "      <td>1.000000</td>\n",
       "    </tr>\n",
       "  </tbody>\n",
       "</table>\n",
       "</div>"
      ],
      "text/plain": [
       "             age    height    weight\n",
       "age     1.000000  0.697215  0.690052\n",
       "height  0.697215  1.000000  0.941922\n",
       "weight  0.690052  0.941922  1.000000"
      ]
     },
     "metadata": {},
     "output_type": "display_data"
    },
    {
     "data": {
      "text/markdown": [
       "## Минимальная корреляция:"
      ],
      "text/plain": [
       "<IPython.core.display.Markdown object>"
      ]
     },
     "metadata": {},
     "output_type": "display_data"
    },
    {
     "name": "stdout",
     "output_type": "stream",
     "text": [
      "('age', 'weight') -> 0.6900518884319605\n"
     ]
    },
    {
     "data": {
      "text/markdown": [
       "## Максимальная корреляция:"
      ],
      "text/plain": [
       "<IPython.core.display.Markdown object>"
      ]
     },
     "metadata": {},
     "output_type": "display_data"
    },
    {
     "name": "stdout",
     "output_type": "stream",
     "text": [
      "('height', 'weight') -> 0.9419218557199522\n"
     ]
    }
   ],
   "source": [
    "disp(MD(\"## Матрица корреляции:\"))\n",
    "cor = train.corr()\n",
    "disp(cor)\n",
    "\n",
    "disp(MD(\"## Минимальная корреляция:\"))\n",
    "cor_st = cor.stack()\n",
    "idx = cor_st.idxmin()\n",
    "print(idx, '->', cor_st[idx])\n",
    "disp(MD(\"## Максимальная корреляция:\"))\n",
    "idx = cor_st[cor_st!=1.0].idxmax()\n",
    "print(idx, '->', cor_st[idx])"
   ]
  },
  {
   "cell_type": "markdown",
   "metadata": {},
   "source": [
    "# 2: визуализация\n"
   ]
  },
  {
   "cell_type": "code",
   "execution_count": 8,
   "metadata": {},
   "outputs": [
    {
     "data": {
      "image/png": "[encoded data removed]",
      "text/plain": [
       "<Figure size 640x480 with 1 Axes>"
      ]
     },
     "metadata": {},
     "output_type": "display_data"
    }
   ],
   "source": [
    "# Независимая переменная\n",
    "fig, ax = plt.subplots()\n",
    "ax.hist((train['height'], test['height']), label=['train', 'test'], bins=25)\n",
    "ax.legend()\n",
    "ax.set_title(\"Гистограмма распределения 'height'\")\n",
    "plt.show()"
   ]
  },
  {
   "cell_type": "code",
   "execution_count": 9,
   "metadata": {},
   "outputs": [
    {
     "data": {
      "text/plain": [
       "<matplotlib.legend.Legend at 0x7459eaa93b90>"
      ]
     },
     "execution_count": 9,
     "metadata": {},
     "output_type": "execute_result"
    },
    {
     "data": {
      "image/png": "[encoded data removed]",
      "text/plain": [
       "<Figure size 640x480 with 1 Axes>"
      ]
     },
     "metadata": {},
     "output_type": "display_data"
    }
   ],
   "source": [
    "tx_train = np.sort(train['weight'])\n",
    "ty_train = np.arange(len(tx_train)) / (len(tx_train)+0.0)\n",
    "\n",
    "fig, ax = plt.subplots()\n",
    "plt.plot(tx_train, ty_train, label='train')\n",
    "ax.set_title(\"Эмпирическая плотность распределения\")\n",
    "\n",
    "tx_test = np.sort(test['weight'])\n",
    "ty_test = np.arange(len(tx_test)) / (len(tx_test)+0.0)\n",
    "\n",
    "plt.plot(tx_test, ty_test, color='orange', label='test')\n",
    "plt.legend()"
   ]
  },
  {
   "cell_type": "markdown",
   "metadata": {},
   "source": [
    "# 3: диаграма рассеивания\n",
    "\n",
    "Отдельно стоящих точек нет"
   ]
  },
  {
   "cell_type": "code",
   "execution_count": 10,
   "metadata": {
    "scrolled": true
   },
   "outputs": [
    {
     "data": {
      "text/plain": [
       "<Axes: title={'center': 'Диаграмма рассеивания'}, xlabel='height', ylabel='weight'>"
      ]
     },
     "execution_count": 10,
     "metadata": {},
     "output_type": "execute_result"
    },
    {
     "data": {
      "image/png": "[encoded data removed]",
      "text/plain": [
       "<Figure size 640x480 with 1 Axes>"
      ]
     },
     "metadata": {},
     "output_type": "display_data"
    }
   ],
   "source": [
    "train.plot.scatter('height', 'weight', title='Диаграмма рассеивания')"
   ]
  },
  {
   "cell_type": "markdown",
   "metadata": {},
   "source": [
    "# 4: линейная регрессия\n"
   ]
  },
  {
   "cell_type": "code",
   "execution_count": 11,
   "metadata": {},
   "outputs": [
    {
     "data": {
      "text/plain": [
       "SimpleLinReg(y = 0.4931890744808294x + -32.618772403482915)"
      ]
     },
     "execution_count": 11,
     "metadata": {},
     "output_type": "execute_result"
    }
   ],
   "source": [
    "# явной схемой\n",
    "class SimpleLinReg:\n",
    "    def __init__(self):\n",
    "        self.a_ = None\n",
    "        self.b_ = None\n",
    "\n",
    "    def fit(self, x_train, y_train):\n",
    "        assert x_train.ndim == 1, \\\n",
    "            \"В данных должен быть один признак\"\n",
    "        assert len(x_train) == len(y_train), \\\n",
    "            \"Данные должны иметь одинаковый размер\"\n",
    "\n",
    "        x_mean = np.mean(x_train)\n",
    "        y_mean = np.mean(y_train)\n",
    "\n",
    "        self.a_ = (x_train - x_mean).dot(y_train - y_mean) / \\\n",
    "                  (x_train - x_mean).dot(x_train - x_mean)\n",
    "        self.b_ = y_mean - self.a_ * x_mean\n",
    "\n",
    "        return self\n",
    "    def predict(self, x_predict):\n",
    "        assert x_predict.ndim == 1, \\\n",
    "            \"В данных должен быть один признак\"\n",
    "        assert self.a_ is not None and self.b_ is not None, \\\n",
    "            \"Модель вначале должна быть обучена\"\n",
    "\n",
    "        return np.array([self._predict(x) for x in x_predict])\n",
    "\n",
    "    def _predict(self, x_single):\n",
    "        return self.a_ * x_single + self.b_\n",
    "    def __repr__(self):\n",
    "        return f\"SimpleLinReg(y = {self.a_}x + {self.b_})\"\n",
    "    \n",
    "    # https://stackoverflow.com/a/61548813/5936187\n",
    "    def r_squared(self, x_predict, y_true):\n",
    "        y_bar = y_true.mean()\n",
    "        y_hat = self.predict(x_predict)\n",
    "        ss_tot = ((y_true-y_bar)**2).sum()\n",
    "        ss_res = ((y_true-y_hat)**2).sum()\n",
    "        return 1 - (ss_res/ss_tot)\n",
    "\n",
    "x = train[\"height\"]\n",
    "y = train[\"weight\"]\n",
    "x_test = test[\"height\"]\n",
    "y_test = test[\"weight\"]\n",
    "\n",
    "regression = SimpleLinReg()\n",
    "regression.fit(x, y)\n",
    "r2 = regression.r_squared(x_test, y_test)\n",
    "regression"
   ]
  },
  {
   "cell_type": "code",
   "execution_count": 12,
   "metadata": {},
   "outputs": [],
   "source": [
    "y_hat_explicit_train = regression.predict(x)\n",
    "y_hat_explicit_test = regression.predict(x_test)"
   ]
  },
  {
   "cell_type": "code",
   "execution_count": 13,
   "metadata": {},
   "outputs": [
    {
     "data": {
      "text/plain": [
       "<matplotlib.legend.Legend at 0x745a56aca6d0>"
      ]
     },
     "execution_count": 13,
     "metadata": {},
     "output_type": "execute_result"
    },
    {
     "data": {
      "image/png": "[encoded data removed]",
      "text/plain": [
       "<Figure size 640x480 with 1 Axes>"
      ]
     },
     "metadata": {},
     "output_type": "display_data"
    }
   ],
   "source": [
    "ax = train.plot.scatter('height', 'weight', title='Диаграмма рассеивания', label='train')\n",
    "ax.scatter(test['height'], test['weight'], color='orange', label='test')\n",
    "ax.plot(x_test, y_hat_explicit_test, color='r', label='явная схема')\n",
    "ax.legend()"
   ]
  },
  {
   "cell_type": "code",
   "execution_count": 14,
   "metadata": {
    "scrolled": true
   },
   "outputs": [
    {
     "data": {
      "text/plain": [
       "25.441917756669504"
      ]
     },
     "execution_count": 14,
     "metadata": {},
     "output_type": "execute_result"
    }
   ],
   "source": [
    "mean_sq_error = sum([(lin - actual)**2 for lin, actual in zip(y_hat_explicit_test, y_test)]) / len(y_test)\n",
    "mean_sq_error"
   ]
  },
  {
   "cell_type": "code",
   "execution_count": 15,
   "metadata": {},
   "outputs": [
    {
     "data": {
      "text/html": [
       "<pre style=\"white-space:pre;overflow-x:auto;line-height:normal;font-family:Menlo,'DejaVu Sans Mono',consolas,'Courier New',monospace\"><span style=\"font-weight: bold\">Model: \"sequential\"</span>\n",
       "</pre>\n"
      ],
      "text/plain": [
       "\u001b[1mModel: \"sequential\"\u001b[0m\n"
      ]
     },
     "metadata": {},
     "output_type": "display_data"
    },
    {
     "data": {
      "text/html": [
       "<pre style=\"white-space:pre;overflow-x:auto;line-height:normal;font-family:Menlo,'DejaVu Sans Mono',consolas,'Courier New',monospace\">┏━━━━━━━━━━━━━━━━━━━━━━━━━━━━━━━━━┳━━━━━━━━━━━━━━━━━━━━━━━━┳━━━━━━━━━━━━━━━┓\n",
       "┃<span style=\"font-weight: bold\"> Layer (type)                    </span>┃<span style=\"font-weight: bold\"> Output Shape           </span>┃<span style=\"font-weight: bold\">       Param # </span>┃\n",
       "┡━━━━━━━━━━━━━━━━━━━━━━━━━━━━━━━━━╇━━━━━━━━━━━━━━━━━━━━━━━━╇━━━━━━━━━━━━━━━┩\n",
       "│ dense (<span style=\"color: #0087ff; text-decoration-color: #0087ff\">Dense</span>)                   │ (<span style=\"color: #00d7ff; text-decoration-color: #00d7ff\">None</span>, <span style=\"color: #00af00; text-decoration-color: #00af00\">1</span>)              │             <span style=\"color: #00af00; text-decoration-color: #00af00\">2</span> │\n",
       "└─────────────────────────────────┴────────────────────────┴───────────────┘\n",
       "</pre>\n"
      ],
      "text/plain": [
       "┏━━━━━━━━━━━━━━━━━━━━━━━━━━━━━━━━━┳━━━━━━━━━━━━━━━━━━━━━━━━┳━━━━━━━━━━━━━━━┓\n",
       "┃\u001b[1m \u001b[0m\u001b[1mLayer (type)                   \u001b[0m\u001b[1m \u001b[0m┃\u001b[1m \u001b[0m\u001b[1mOutput Shape          \u001b[0m\u001b[1m \u001b[0m┃\u001b[1m \u001b[0m\u001b[1m      Param #\u001b[0m\u001b[1m \u001b[0m┃\n",
       "┡━━━━━━━━━━━━━━━━━━━━━━━━━━━━━━━━━╇━━━━━━━━━━━━━━━━━━━━━━━━╇━━━━━━━━━━━━━━━┩\n",
       "│ dense (\u001b[38;5;33mDense\u001b[0m)                   │ (\u001b[38;5;45mNone\u001b[0m, \u001b[38;5;34m1\u001b[0m)              │             \u001b[38;5;34m2\u001b[0m │\n",
       "└─────────────────────────────────┴────────────────────────┴───────────────┘\n"
      ]
     },
     "metadata": {},
     "output_type": "display_data"
    },
    {
     "data": {
      "text/html": [
       "<pre style=\"white-space:pre;overflow-x:auto;line-height:normal;font-family:Menlo,'DejaVu Sans Mono',consolas,'Courier New',monospace\"><span style=\"font-weight: bold\"> Total params: </span><span style=\"color: #00af00; text-decoration-color: #00af00\">2</span> (8.00 B)\n",
       "</pre>\n"
      ],
      "text/plain": [
       "\u001b[1m Total params: \u001b[0m\u001b[38;5;34m2\u001b[0m (8.00 B)\n"
      ]
     },
     "metadata": {},
     "output_type": "display_data"
    },
    {
     "data": {
      "text/html": [
       "<pre style=\"white-space:pre;overflow-x:auto;line-height:normal;font-family:Menlo,'DejaVu Sans Mono',consolas,'Courier New',monospace\"><span style=\"font-weight: bold\"> Trainable params: </span><span style=\"color: #00af00; text-decoration-color: #00af00\">2</span> (8.00 B)\n",
       "</pre>\n"
      ],
      "text/plain": [
       "\u001b[1m Trainable params: \u001b[0m\u001b[38;5;34m2\u001b[0m (8.00 B)\n"
      ]
     },
     "metadata": {},
     "output_type": "display_data"
    },
    {
     "data": {
      "text/html": [
       "<pre style=\"white-space:pre;overflow-x:auto;line-height:normal;font-family:Menlo,'DejaVu Sans Mono',consolas,'Courier New',monospace\"><span style=\"font-weight: bold\"> Non-trainable params: </span><span style=\"color: #00af00; text-decoration-color: #00af00\">0</span> (0.00 B)\n",
       "</pre>\n"
      ],
      "text/plain": [
       "\u001b[1m Non-trainable params: \u001b[0m\u001b[38;5;34m0\u001b[0m (0.00 B)\n"
      ]
     },
     "metadata": {},
     "output_type": "display_data"
    }
   ],
   "source": [
    "# нейросетью\n",
    "model = tf.keras.Sequential([\n",
    "    tf.keras.layers.Input((1,)),\n",
    "    tf.keras.layers.Dense(1),\n",
    "])\n",
    "model.summary()"
   ]
  },
  {
   "cell_type": "code",
   "execution_count": 16,
   "metadata": {},
   "outputs": [],
   "source": [
    "model.compile(\n",
    "    loss=tf.keras.losses.MAE,\n",
    "    optimizer=tf.keras.optimizers.Adam(learning_rate=0.05),\n",
    "    metrics=[\"r2_score\"]\n",
    ")"
   ]
  },
  {
   "cell_type": "code",
   "execution_count": 17,
   "metadata": {},
   "outputs": [
    {
     "data": {
      "text/plain": [
       "<keras.src.callbacks.history.History at 0x745a56cda8d0>"
      ]
     },
     "execution_count": 17,
     "metadata": {},
     "output_type": "execute_result"
    }
   ],
   "source": [
    "x = np.asarray(train[\"height\"]).astype(np.float32)\n",
    "y = np.asarray(train[\"weight\"]).astype(np.float32)\n",
    "x_test = np.asarray(test[\"height\"]).astype(np.float32)\n",
    "y_test = np.asarray(test[\"weight\"]).astype(np.float32)\n",
    "\n",
    "model.fit(x, y, epochs=1000, verbose=0)"
   ]
  },
  {
   "cell_type": "code",
   "execution_count": 18,
   "metadata": {},
   "outputs": [
    {
     "name": "stdout",
     "output_type": "stream",
     "text": [
      "\u001b[1m4/4\u001b[0m \u001b[32m━━━━━━━━━━━━━━━━━━━━\u001b[0m\u001b[37m\u001b[0m \u001b[1m0s\u001b[0m 2ms/step \n"
     ]
    }
   ],
   "source": [
    "model_predict = model.predict(x_test)"
   ]
  },
  {
   "cell_type": "code",
   "execution_count": 19,
   "metadata": {},
   "outputs": [
    {
     "data": {
      "text/plain": [
       "<matplotlib.legend.Legend at 0x745a561ee9d0>"
      ]
     },
     "execution_count": 19,
     "metadata": {},
     "output_type": "execute_result"
    },
    {
     "data": {
      "image/png": "[encoded data removed]",
      "text/plain": [
       "<Figure size 640x480 with 1 Axes>"
      ]
     },
     "metadata": {},
     "output_type": "display_data"
    }
   ],
   "source": [
    "# 5: диаграмма рассеивания\n",
    "ax = train.plot.scatter('height', 'weight', title='Диаграмма рассеивания', label='train')\n",
    "ax.scatter(test['height'], test['weight'], color='orange', label='test')\n",
    "ax.plot(x_test, y_hat_explicit_test, color='r', label='явная схема')\n",
    "ax.plot(x_test, model_predict, color=\"g\", label=\"нейросеть\")\n",
    "ax.legend()"
   ]
  },
  {
   "cell_type": "code",
   "execution_count": 20,
   "metadata": {},
   "outputs": [
    {
     "name": "stdout",
     "output_type": "stream",
     "text": [
      "\u001b[1m4/4\u001b[0m \u001b[32m━━━━━━━━━━━━━━━━━━━━\u001b[0m\u001b[37m\u001b[0m \u001b[1m0s\u001b[0m 3ms/step - loss: 4.3591 - r2_score: 0.8343  \n"
     ]
    },
    {
     "data": {
      "text/markdown": [
       "## R^2 явной схемы: 0.8697705142315317"
      ],
      "text/plain": [
       "<IPython.core.display.Markdown object>"
      ]
     },
     "metadata": {},
     "output_type": "display_data"
    },
    {
     "data": {
      "text/markdown": [
       "## R^2 нейросети: 0.8522513508796692 (- 0.017519163351862543)"
      ],
      "text/plain": [
       "<IPython.core.display.Markdown object>"
      ]
     },
     "metadata": {},
     "output_type": "display_data"
    },
    {
     "data": {
      "text/markdown": [
       "## -> явная схема лучше"
      ],
      "text/plain": [
       "<IPython.core.display.Markdown object>"
      ]
     },
     "metadata": {},
     "output_type": "display_data"
    }
   ],
   "source": [
    "x_test = np.asarray(test[\"height\"]).astype(np.float32)\n",
    "y_test = np.asarray(test[\"weight\"]).astype(np.float32)\n",
    "\n",
    "loss, r2_model = model.evaluate(x_test, y_test)\n",
    "disp(MD(f\"## R^2 явной схемы: {r2}\"))\n",
    "disp(MD(f\"## R^2 нейросети: {r2_model} (- {r2 - r2_model})\"))\n",
    "if r2 > r2_model:\n",
    "    disp(MD('## -> явная схема лучше'))\n",
    "else:\n",
    "    disp(MD('## -> нейросеть лучше'))"
   ]
  },
  {
   "cell_type": "code",
   "execution_count": 21,
   "metadata": {},
   "outputs": [
    {
     "data": {
      "text/plain": [
       "(25.441917756669504, array([28.864504], dtype=float32))"
      ]
     },
     "execution_count": 21,
     "metadata": {},
     "output_type": "execute_result"
    }
   ],
   "source": [
    "mean_sq_error_neural = sum([(lin - actual)**2 for lin, actual in zip(model_predict, y_test)]) / len(y_test)\n",
    "mean_sq_error, mean_sq_error_neural"
   ]
  },
  {
   "cell_type": "markdown",
   "metadata": {},
   "source": [
    "# 6: нормализация для многомерного анализа\n"
   ]
  },
  {
   "cell_type": "code",
   "execution_count": 22,
   "metadata": {
    "scrolled": false
   },
   "outputs": [
    {
     "data": {
      "text/plain": [
       "array(['age', 'height'], dtype='<U6')"
      ]
     },
     "metadata": {},
     "output_type": "display_data"
    },
    {
     "data": {
      "text/plain": [
       "array([[20.0, 154.89999389648438],\n",
       "       [21.0, 146.0500030517578],\n",
       "       [5.0, 101.5999984741211],\n",
       "       [25.0, 147.32000732421875],\n",
       "       [38.0, 147.32000732421875]], dtype=object)"
      ]
     },
     "metadata": {},
     "output_type": "display_data"
    }
   ],
   "source": [
    "## нормализация age и height через Tensorflow\n",
    "n = np.array([x for x in train if x != \"weight\"])\n",
    "features = np.array(train[n])\n",
    "disp(n)\n",
    "disp(features[:5])\n",
    "normalizer = tf.keras.layers.Normalization()\n",
    "normalizer.adapt(np.array(features))"
   ]
  },
  {
   "cell_type": "code",
   "execution_count": 23,
   "metadata": {
    "scrolled": true
   },
   "outputs": [
    {
     "name": "stdout",
     "output_type": "stream",
     "text": [
      "[[ 28.694832 136.51624 ]]\n",
      "[[447.5423 799.6701]]\n"
     ]
    }
   ],
   "source": [
    "print(normalizer.mean.numpy())\n",
    "print(normalizer.variance.numpy())"
   ]
  },
  {
   "cell_type": "code",
   "execution_count": 24,
   "metadata": {},
   "outputs": [
    {
     "data": {
      "text/plain": [
       "(-1.1462432e-09, 1.0)"
      ]
     },
     "execution_count": 24,
     "metadata": {},
     "output_type": "execute_result"
    }
   ],
   "source": [
    "## нормализация weight вручную\n",
    "y_train = np.array(train['weight'])\n",
    "y_train_norm = (y_train - y_train.mean()) / y_train.std()\n",
    "y_train_norm = y_train_norm.astype(np.float32)\n",
    "y_train_norm.mean(), y_train_norm.std()"
   ]
  },
  {
   "cell_type": "code",
   "execution_count": 25,
   "metadata": {},
   "outputs": [
    {
     "data": {
      "text/plain": [
       "(3.7252903e-09, 1.0)"
      ]
     },
     "execution_count": 25,
     "metadata": {},
     "output_type": "execute_result"
    }
   ],
   "source": [
    "y_test = np.array(test['weight'])\n",
    "y_test_norm = (y_test - y_test.mean()) / y_test.std()\n",
    "y_test_norm = y_test_norm.astype(np.float32)\n",
    "\n",
    "y_test_norm.mean(), y_test_norm.std()"
   ]
  },
  {
   "cell_type": "markdown",
   "metadata": {},
   "source": [
    "# 7: нейросети с нормализацией и регуляризацией\n"
   ]
  },
  {
   "cell_type": "code",
   "execution_count": 26,
   "metadata": {},
   "outputs": [
    {
     "data": {
      "text/html": [
       "<pre style=\"white-space:pre;overflow-x:auto;line-height:normal;font-family:Menlo,'DejaVu Sans Mono',consolas,'Courier New',monospace\"><span style=\"font-weight: bold\">Model: \"sequential_1\"</span>\n",
       "</pre>\n"
      ],
      "text/plain": [
       "\u001b[1mModel: \"sequential_1\"\u001b[0m\n"
      ]
     },
     "metadata": {},
     "output_type": "display_data"
    },
    {
     "data": {
      "text/html": [
       "<pre style=\"white-space:pre;overflow-x:auto;line-height:normal;font-family:Menlo,'DejaVu Sans Mono',consolas,'Courier New',monospace\">┏━━━━━━━━━━━━━━━━━━━━━━━━━━━━━━━━━┳━━━━━━━━━━━━━━━━━━━━━━━━┳━━━━━━━━━━━━━━━┓\n",
       "┃<span style=\"font-weight: bold\"> Layer (type)                    </span>┃<span style=\"font-weight: bold\"> Output Shape           </span>┃<span style=\"font-weight: bold\">       Param # </span>┃\n",
       "┡━━━━━━━━━━━━━━━━━━━━━━━━━━━━━━━━━╇━━━━━━━━━━━━━━━━━━━━━━━━╇━━━━━━━━━━━━━━━┩\n",
       "│ normalization (<span style=\"color: #0087ff; text-decoration-color: #0087ff\">Normalization</span>)   │ (<span style=\"color: #00d7ff; text-decoration-color: #00d7ff\">None</span>, <span style=\"color: #00af00; text-decoration-color: #00af00\">2</span>)              │             <span style=\"color: #00af00; text-decoration-color: #00af00\">5</span> │\n",
       "├─────────────────────────────────┼────────────────────────┼───────────────┤\n",
       "│ dense_1 (<span style=\"color: #0087ff; text-decoration-color: #0087ff\">Dense</span>)                 │ (<span style=\"color: #00d7ff; text-decoration-color: #00d7ff\">None</span>, <span style=\"color: #00af00; text-decoration-color: #00af00\">1</span>)              │             <span style=\"color: #00af00; text-decoration-color: #00af00\">3</span> │\n",
       "└─────────────────────────────────┴────────────────────────┴───────────────┘\n",
       "</pre>\n"
      ],
      "text/plain": [
       "┏━━━━━━━━━━━━━━━━━━━━━━━━━━━━━━━━━┳━━━━━━━━━━━━━━━━━━━━━━━━┳━━━━━━━━━━━━━━━┓\n",
       "┃\u001b[1m \u001b[0m\u001b[1mLayer (type)                   \u001b[0m\u001b[1m \u001b[0m┃\u001b[1m \u001b[0m\u001b[1mOutput Shape          \u001b[0m\u001b[1m \u001b[0m┃\u001b[1m \u001b[0m\u001b[1m      Param #\u001b[0m\u001b[1m \u001b[0m┃\n",
       "┡━━━━━━━━━━━━━━━━━━━━━━━━━━━━━━━━━╇━━━━━━━━━━━━━━━━━━━━━━━━╇━━━━━━━━━━━━━━━┩\n",
       "│ normalization (\u001b[38;5;33mNormalization\u001b[0m)   │ (\u001b[38;5;45mNone\u001b[0m, \u001b[38;5;34m2\u001b[0m)              │             \u001b[38;5;34m5\u001b[0m │\n",
       "├─────────────────────────────────┼────────────────────────┼───────────────┤\n",
       "│ dense_1 (\u001b[38;5;33mDense\u001b[0m)                 │ (\u001b[38;5;45mNone\u001b[0m, \u001b[38;5;34m1\u001b[0m)              │             \u001b[38;5;34m3\u001b[0m │\n",
       "└─────────────────────────────────┴────────────────────────┴───────────────┘\n"
      ]
     },
     "metadata": {},
     "output_type": "display_data"
    },
    {
     "data": {
      "text/html": [
       "<pre style=\"white-space:pre;overflow-x:auto;line-height:normal;font-family:Menlo,'DejaVu Sans Mono',consolas,'Courier New',monospace\"><span style=\"font-weight: bold\"> Total params: </span><span style=\"color: #00af00; text-decoration-color: #00af00\">8</span> (36.00 B)\n",
       "</pre>\n"
      ],
      "text/plain": [
       "\u001b[1m Total params: \u001b[0m\u001b[38;5;34m8\u001b[0m (36.00 B)\n"
      ]
     },
     "metadata": {},
     "output_type": "display_data"
    },
    {
     "data": {
      "text/html": [
       "<pre style=\"white-space:pre;overflow-x:auto;line-height:normal;font-family:Menlo,'DejaVu Sans Mono',consolas,'Courier New',monospace\"><span style=\"font-weight: bold\"> Trainable params: </span><span style=\"color: #00af00; text-decoration-color: #00af00\">3</span> (12.00 B)\n",
       "</pre>\n"
      ],
      "text/plain": [
       "\u001b[1m Trainable params: \u001b[0m\u001b[38;5;34m3\u001b[0m (12.00 B)\n"
      ]
     },
     "metadata": {},
     "output_type": "display_data"
    },
    {
     "data": {
      "text/html": [
       "<pre style=\"white-space:pre;overflow-x:auto;line-height:normal;font-family:Menlo,'DejaVu Sans Mono',consolas,'Courier New',monospace\"><span style=\"font-weight: bold\"> Non-trainable params: </span><span style=\"color: #00af00; text-decoration-color: #00af00\">5</span> (24.00 B)\n",
       "</pre>\n"
      ],
      "text/plain": [
       "\u001b[1m Non-trainable params: \u001b[0m\u001b[38;5;34m5\u001b[0m (24.00 B)\n"
      ]
     },
     "metadata": {},
     "output_type": "display_data"
    }
   ],
   "source": [
    "feature = np.array(train['height'])\n",
    "\n",
    "l0_model = tf.keras.Sequential([\n",
    "    tf.keras.layers.Input((2,)),\n",
    "    normalizer,\n",
    "    tf.keras.layers.Dense(units=1),\n",
    "])\n",
    "l0_model.summary()"
   ]
  },
  {
   "cell_type": "code",
   "execution_count": 27,
   "metadata": {},
   "outputs": [],
   "source": [
    "l0_model.compile(\n",
    "    loss=tf.keras.losses.MAE,\n",
    "    optimizer=tf.keras.optimizers.Adam(learning_rate=0.05),\n",
    "    metrics=[\"r2_score\"]\n",
    ")\n",
    "\n",
    "x_train = np.asarray(train[n]).astype(np.float32)\n",
    "x_test = np.asarray(test[n]).astype(np.float32)\n",
    "\n",
    "l0_hist = l0_model.fit(x_train, y_train_norm, epochs=1000, verbose=0, validation_split=0.2)"
   ]
  },
  {
   "cell_type": "code",
   "execution_count": 28,
   "metadata": {},
   "outputs": [],
   "source": [
    "test_results = {}\n",
    "\n",
    "test_results['linear'] = l0_model.evaluate(\n",
    "    np.asarray(x_test).astype(np.float32),\n",
    "    np.asarray(y_test_norm).astype(np.float32), verbose=0)"
   ]
  },
  {
   "cell_type": "code",
   "execution_count": 29,
   "metadata": {},
   "outputs": [],
   "source": [
    "# Модель с L1\n",
    "l1_model = tf.keras.Sequential([\n",
    "    tf.keras.layers.Input((2,)),\n",
    "    normalizer,\n",
    "    tf.keras.layers.Dense(units=1, kernel_regularizer=tf.keras.regularizers.L1(l1=0.01)),\n",
    "])\n",
    "\n",
    "l1_model.compile(\n",
    "    loss=tf.keras.losses.MAE,\n",
    "    optimizer=tf.keras.optimizers.Adam(learning_rate=0.05),\n",
    "    metrics=[\"r2_score\"]\n",
    ")\n",
    "\n",
    "l1_hist = l1_model.fit(x_train, y_train_norm, epochs=1000, verbose=0, validation_split=0.2)\n",
    "\n",
    "test_results['l1'] = l1_model.evaluate(\n",
    "    np.asarray(x_test).astype(np.float32),\n",
    "    np.asarray(y_test_norm).astype(np.float32), verbose=0)"
   ]
  },
  {
   "cell_type": "code",
   "execution_count": 30,
   "metadata": {},
   "outputs": [],
   "source": [
    "# Модель с L2\n",
    "l2_model = tf.keras.Sequential([\n",
    "    tf.keras.layers.Input((2,)),\n",
    "    normalizer,\n",
    "    tf.keras.layers.Dense(units=1, kernel_regularizer=tf.keras.regularizers.L2(l2=0.01)),\n",
    "])\n",
    "\n",
    "l2_model.compile(\n",
    "    loss=tf.keras.losses.MAE,\n",
    "    optimizer=tf.keras.optimizers.Adam(learning_rate=0.05),\n",
    "    metrics=[\"r2_score\"]\n",
    ")\n",
    "\n",
    "l2_hist = l2_model.fit(x_train, y_train_norm, epochs=1000, verbose=0, validation_split=0.2)\n",
    "\n",
    "test_results['l2'] = l2_model.evaluate(\n",
    "    np.asarray(x_test).astype(np.float32),\n",
    "    np.asarray(y_test_norm).astype(np.float32), verbose=0)"
   ]
  },
  {
   "cell_type": "code",
   "execution_count": 31,
   "metadata": {},
   "outputs": [
    {
     "data": {
      "text/plain": [
       "{'linear': [0.3517463803291321, 0.8204483389854431],\n",
       " 'l1': [0.3951987624168396, 0.7872925400733948],\n",
       " 'l2': [0.371818870306015, 0.8074440360069275]}"
      ]
     },
     "execution_count": 31,
     "metadata": {},
     "output_type": "execute_result"
    }
   ],
   "source": [
    "test_results"
   ]
  },
  {
   "cell_type": "markdown",
   "metadata": {},
   "source": [
    "# 8 + 9: визуализация лучшей модели\n"
   ]
  },
  {
   "cell_type": "code",
   "execution_count": 32,
   "metadata": {},
   "outputs": [
    {
     "data": {
      "text/plain": [
       "{'linear': [0.3517463803291321, 0.8204483389854431],\n",
       " 'l1': [0.3951987624168396, 0.7872925400733948],\n",
       " 'l2': [0.371818870306015, 0.8074440360069275]}"
      ]
     },
     "metadata": {},
     "output_type": "display_data"
    },
    {
     "data": {
      "text/markdown": [
       "## Лучший показатель у модели LINEAR R^2 = 0.8204483389854431"
      ],
      "text/plain": [
       "<IPython.core.display.Markdown object>"
      ]
     },
     "metadata": {},
     "output_type": "display_data"
    },
    {
     "data": {
      "image/png": "[encoded data removed]",
      "text/plain": [
       "<Figure size 640x480 with 1 Axes>"
      ]
     },
     "metadata": {},
     "output_type": "display_data"
    }
   ],
   "source": [
    "models = {\n",
    "    'linear': [l0_model, l0_hist],\n",
    "    'l1': [l1_model, l1_hist],\n",
    "    'l2': [l2_model, l2_hist]\n",
    "}\n",
    "\n",
    "def plot_loss(history):\n",
    "  plt.plot(history.history['loss'], label='loss')\n",
    "  plt.plot(history.history['val_loss'], label='val_loss')\n",
    "  plt.ylim([0, max(history.history['loss'])*1.15])\n",
    "  plt.xlabel('Эпохи обучения')\n",
    "  plt.ylabel('Ошибка')\n",
    "  plt.legend()\n",
    "  plt.grid(True)\n",
    "\n",
    "disp(test_results)\n",
    "\n",
    "best_scoring_name = max(list(test_results), key=lambda x: test_results[x][1])\n",
    "best_model, best_hist = models[best_scoring_name]\n",
    "disp(MD(f\"## Лучший показатель у модели {best_scoring_name.upper()} R^2 = {test_results[best_scoring_name][1]}\"))\n",
    "plot_loss(best_hist)"
   ]
  },
  {
   "cell_type": "markdown",
   "metadata": {},
   "source": [
    "# 10: визуализация предсказаний модели"
   ]
  },
  {
   "cell_type": "code",
   "execution_count": 34,
   "metadata": {},
   "outputs": [
    {
     "data": {
      "application/javascript": [
       "/* Put everything inside the global mpl namespace */\n",
       "/* global mpl */\n",
       "window.mpl = {};\n",
       "\n",
       "mpl.get_websocket_type = function () {\n",
       "    if (typeof WebSocket !== 'undefined') {\n",
       "        return WebSocket;\n",
       "    } else if (typeof MozWebSocket !== 'undefined') {\n",
       "        return MozWebSocket;\n",
       "    } else {\n",
       "        alert(\n",
       "            'Your browser does not have WebSocket support. ' +\n",
       "                'Please try Chrome, Safari or Firefox ≥ 6. ' +\n",
       "                'Firefox 4 and 5 are also supported but you ' +\n",
       "                'have to enable WebSockets in about:config.'\n",
       "        );\n",
       "    }\n",
       "};\n",
       "\n",
       "mpl.figure = function (figure_id, websocket, ondownload, parent_element) {\n",
       "    this.id = figure_id;\n",
       "\n",
       "    this.ws = websocket;\n",
       "\n",
       "    this.supports_binary = this.ws.binaryType !== undefined;\n",
       "\n",
       "    if (!this.supports_binary) {\n",
       "        var warnings = document.getElementById('mpl-warnings');\n",
       "        if (warnings) {\n",
       "            warnings.style.display = 'block';\n",
       "            warnings.textContent =\n",
       "                'This browser does not support binary websocket messages. ' +\n",
       "                'Performance may be slow.';\n",
       "        }\n",
       "    }\n",
       "\n",
       "    this.imageObj = new Image();\n",
       "\n",
       "    this.context = undefined;\n",
       "    this.message = undefined;\n",
       "    this.canvas = undefined;\n",
       "    this.rubberband_canvas = undefined;\n",
       "    this.rubberband_context = undefined;\n",
       "    this.format_dropdown = undefined;\n",
       "\n",
       "    this.image_mode = 'full';\n",
       "\n",
       "    this.root = document.createElement('div');\n",
       "    this.root.setAttribute('style', 'display: inline-block');\n",
       "    this._root_extra_style(this.root);\n",
       "\n",
       "    parent_element.appendChild(this.root);\n",
       "\n",
       "    this._init_header(this);\n",
       "    this._init_canvas(this);\n",
       "    this._init_toolbar(this);\n",
       "\n",
       "    var fig = this;\n",
       "\n",
       "    this.waiting = false;\n",
       "\n",
       "    this.ws.onopen = function () {\n",
       "        fig.send_message('supports_binary', { value: fig.supports_binary });\n",
       "        fig.send_message('send_image_mode', {});\n",
       "        if (fig.ratio !== 1) {\n",
       "            fig.send_message('set_device_pixel_ratio', {\n",
       "                device_pixel_ratio: fig.ratio,\n",
       "            });\n",
       "        }\n",
       "        fig.send_message('refresh', {});\n",
       "    };\n",
       "\n",
       "    this.imageObj.onload = function () {\n",
       "        if (fig.image_mode === 'full') {\n",
       "            // Full images could contain transparency (where diff images\n",
       "            // almost always do), so we need to clear the canvas so that\n",
       "            // there is no ghosting.\n",
       "            fig.context.clearRect(0, 0, fig.canvas.width, fig.canvas.height);\n",
       "        }\n",
       "        fig.context.drawImage(fig.imageObj, 0, 0);\n",
       "    };\n",
       "\n",
       "    this.imageObj.onunload = function () {\n",
       "        fig.ws.close();\n",
       "    };\n",
       "\n",
       "    this.ws.onmessage = this._make_on_message_function(this);\n",
       "\n",
       "    this.ondownload = ondownload;\n",
       "};\n",
       "\n",
       "mpl.figure.prototype._init_header = function () {\n",
       "    var titlebar = document.createElement('div');\n",
       "    titlebar.classList =\n",
       "        'ui-dialog-titlebar ui-widget-header ui-corner-all ui-helper-clearfix';\n",
       "    var titletext = document.createElement('div');\n",
       "    titletext.classList = 'ui-dialog-title';\n",
       "    titletext.setAttribute(\n",
       "        'style',\n",
       "        'width: 100%; text-align: center; padding: 3px;'\n",
       "    );\n",
       "    titlebar.appendChild(titletext);\n",
       "    this.root.appendChild(titlebar);\n",
       "    this.header = titletext;\n",
       "};\n",
       "\n",
       "mpl.figure.prototype._canvas_extra_style = function (_canvas_div) {};\n",
       "\n",
       "mpl.figure.prototype._root_extra_style = function (_canvas_div) {};\n",
       "\n",
       "mpl.figure.prototype._init_canvas = function () {\n",
       "    var fig = this;\n",
       "\n",
       "    var canvas_div = (this.canvas_div = document.createElement('div'));\n",
       "    canvas_div.setAttribute('tabindex', '0');\n",
       "    canvas_div.setAttribute(\n",
       "        'style',\n",
       "        'border: 1px solid #ddd;' +\n",
       "            'box-sizing: content-box;' +\n",
       "            'clear: both;' +\n",
       "            'min-height: 1px;' +\n",
       "            'min-width: 1px;' +\n",
       "            'outline: 0;' +\n",
       "            'overflow: hidden;' +\n",
       "            'position: relative;' +\n",
       "            'resize: both;' +\n",
       "            'z-index: 2;'\n",
       "    );\n",
       "\n",
       "    function on_keyboard_event_closure(name) {\n",
       "        return function (event) {\n",
       "            return fig.key_event(event, name);\n",
       "        };\n",
       "    }\n",
       "\n",
       "    canvas_div.addEventListener(\n",
       "        'keydown',\n",
       "        on_keyboard_event_closure('key_press')\n",
       "    );\n",
       "    canvas_div.addEventListener(\n",
       "        'keyup',\n",
       "        on_keyboard_event_closure('key_release')\n",
       "    );\n",
       "\n",
       "    this._canvas_extra_style(canvas_div);\n",
       "    this.root.appendChild(canvas_div);\n",
       "\n",
       "    var canvas = (this.canvas = document.createElement('canvas'));\n",
       "    canvas.classList.add('mpl-canvas');\n",
       "    canvas.setAttribute(\n",
       "        'style',\n",
       "        'box-sizing: content-box;' +\n",
       "            'pointer-events: none;' +\n",
       "            'position: relative;' +\n",
       "            'z-index: 0;'\n",
       "    );\n",
       "\n",
       "    this.context = canvas.getContext('2d');\n",
       "\n",
       "    var backingStore =\n",
       "        this.context.backingStorePixelRatio ||\n",
       "        this.context.webkitBackingStorePixelRatio ||\n",
       "        this.context.mozBackingStorePixelRatio ||\n",
       "        this.context.msBackingStorePixelRatio ||\n",
       "        this.context.oBackingStorePixelRatio ||\n",
       "        this.context.backingStorePixelRatio ||\n",
       "        1;\n",
       "\n",
       "    this.ratio = (window.devicePixelRatio || 1) / backingStore;\n",
       "\n",
       "    var rubberband_canvas = (this.rubberband_canvas = document.createElement(\n",
       "        'canvas'\n",
       "    ));\n",
       "    rubberband_canvas.setAttribute(\n",
       "        'style',\n",
       "        'box-sizing: content-box;' +\n",
       "            'left: 0;' +\n",
       "            'pointer-events: none;' +\n",
       "            'position: absolute;' +\n",
       "            'top: 0;' +\n",
       "            'z-index: 1;'\n",
       "    );\n",
       "\n",
       "    // Apply a ponyfill if ResizeObserver is not implemented by browser.\n",
       "    if (this.ResizeObserver === undefined) {\n",
       "        if (window.ResizeObserver !== undefined) {\n",
       "            this.ResizeObserver = window.ResizeObserver;\n",
       "        } else {\n",
       "            var obs = _JSXTOOLS_RESIZE_OBSERVER({});\n",
       "            this.ResizeObserver = obs.ResizeObserver;\n",
       "        }\n",
       "    }\n",
       "\n",
       "    this.resizeObserverInstance = new this.ResizeObserver(function (entries) {\n",
       "        var nentries = entries.length;\n",
       "        for (var i = 0; i < nentries; i++) {\n",
       "            var entry = entries[i];\n",
       "            var width, height;\n",
       "            if (entry.contentBoxSize) {\n",
       "                if (entry.contentBoxSize instanceof Array) {\n",
       "                    // Chrome 84 implements new version of spec.\n",
       "                    width = entry.contentBoxSize[0].inlineSize;\n",
       "                    height = entry.contentBoxSize[0].blockSize;\n",
       "                } else {\n",
       "                    // Firefox implements old version of spec.\n",
       "                    width = entry.contentBoxSize.inlineSize;\n",
       "                    height = entry.contentBoxSize.blockSize;\n",
       "                }\n",
       "            } else {\n",
       "                // Chrome <84 implements even older version of spec.\n",
       "                width = entry.contentRect.width;\n",
       "                height = entry.contentRect.height;\n",
       "            }\n",
       "\n",
       "            // Keep the size of the canvas and rubber band canvas in sync with\n",
       "            // the canvas container.\n",
       "            if (entry.devicePixelContentBoxSize) {\n",
       "                // Chrome 84 implements new version of spec.\n",
       "                canvas.setAttribute(\n",
       "                    'width',\n",
       "                    entry.devicePixelContentBoxSize[0].inlineSize\n",
       "                );\n",
       "                canvas.setAttribute(\n",
       "                    'height',\n",
       "                    entry.devicePixelContentBoxSize[0].blockSize\n",
       "                );\n",
       "            } else {\n",
       "                canvas.setAttribute('width', width * fig.ratio);\n",
       "                canvas.setAttribute('height', height * fig.ratio);\n",
       "            }\n",
       "            /* This rescales the canvas back to display pixels, so that it\n",
       "             * appears correct on HiDPI screens. */\n",
       "            canvas.style.width = width + 'px';\n",
       "            canvas.style.height = height + 'px';\n",
       "\n",
       "            rubberband_canvas.setAttribute('width', width);\n",
       "            rubberband_canvas.setAttribute('height', height);\n",
       "\n",
       "            // And update the size in Python. We ignore the initial 0/0 size\n",
       "            // that occurs as the element is placed into the DOM, which should\n",
       "            // otherwise not happen due to the minimum size styling.\n",
       "            if (fig.ws.readyState == 1 && width != 0 && height != 0) {\n",
       "                fig.request_resize(width, height);\n",
       "            }\n",
       "        }\n",
       "    });\n",
       "    this.resizeObserverInstance.observe(canvas_div);\n",
       "\n",
       "    function on_mouse_event_closure(name) {\n",
       "        /* User Agent sniffing is bad, but WebKit is busted:\n",
       "         * https://bugs.webkit.org/show_bug.cgi?id=144526\n",
       "         * https://bugs.webkit.org/show_bug.cgi?id=181818\n",
       "         * The worst that happens here is that they get an extra browser\n",
       "         * selection when dragging, if this check fails to catch them.\n",
       "         */\n",
       "        var UA = navigator.userAgent;\n",
       "        var isWebKit = /AppleWebKit/.test(UA) && !/Chrome/.test(UA);\n",
       "        if(isWebKit) {\n",
       "            return function (event) {\n",
       "                /* This prevents the web browser from automatically changing to\n",
       "                 * the text insertion cursor when the button is pressed. We\n",
       "                 * want to control all of the cursor setting manually through\n",
       "                 * the 'cursor' event from matplotlib */\n",
       "                event.preventDefault()\n",
       "                return fig.mouse_event(event, name);\n",
       "            };\n",
       "        } else {\n",
       "            return function (event) {\n",
       "                return fig.mouse_event(event, name);\n",
       "            };\n",
       "        }\n",
       "    }\n",
       "\n",
       "    canvas_div.addEventListener(\n",
       "        'mousedown',\n",
       "        on_mouse_event_closure('button_press')\n",
       "    );\n",
       "    canvas_div.addEventListener(\n",
       "        'mouseup',\n",
       "        on_mouse_event_closure('button_release')\n",
       "    );\n",
       "    canvas_div.addEventListener(\n",
       "        'dblclick',\n",
       "        on_mouse_event_closure('dblclick')\n",
       "    );\n",
       "    // Throttle sequential mouse events to 1 every 20ms.\n",
       "    canvas_div.addEventListener(\n",
       "        'mousemove',\n",
       "        on_mouse_event_closure('motion_notify')\n",
       "    );\n",
       "\n",
       "    canvas_div.addEventListener(\n",
       "        'mouseenter',\n",
       "        on_mouse_event_closure('figure_enter')\n",
       "    );\n",
       "    canvas_div.addEventListener(\n",
       "        'mouseleave',\n",
       "        on_mouse_event_closure('figure_leave')\n",
       "    );\n",
       "\n",
       "    canvas_div.addEventListener('wheel', function (event) {\n",
       "        if (event.deltaY < 0) {\n",
       "            event.step = 1;\n",
       "        } else {\n",
       "            event.step = -1;\n",
       "        }\n",
       "        on_mouse_event_closure('scroll')(event);\n",
       "    });\n",
       "\n",
       "    canvas_div.appendChild(canvas);\n",
       "    canvas_div.appendChild(rubberband_canvas);\n",
       "\n",
       "    this.rubberband_context = rubberband_canvas.getContext('2d');\n",
       "    this.rubberband_context.strokeStyle = '#000000';\n",
       "\n",
       "    this._resize_canvas = function (width, height, forward) {\n",
       "        if (forward) {\n",
       "            canvas_div.style.width = width + 'px';\n",
       "            canvas_div.style.height = height + 'px';\n",
       "        }\n",
       "    };\n",
       "\n",
       "    // Disable right mouse context menu.\n",
       "    canvas_div.addEventListener('contextmenu', function (_e) {\n",
       "        event.preventDefault();\n",
       "        return false;\n",
       "    });\n",
       "\n",
       "    function set_focus() {\n",
       "        canvas.focus();\n",
       "        canvas_div.focus();\n",
       "    }\n",
       "\n",
       "    window.setTimeout(set_focus, 100);\n",
       "};\n",
       "\n",
       "mpl.figure.prototype._init_toolbar = function () {\n",
       "    var fig = this;\n",
       "\n",
       "    var toolbar = document.createElement('div');\n",
       "    toolbar.classList = 'mpl-toolbar';\n",
       "    this.root.appendChild(toolbar);\n",
       "\n",
       "    function on_click_closure(name) {\n",
       "        return function (_event) {\n",
       "            return fig.toolbar_button_onclick(name);\n",
       "        };\n",
       "    }\n",
       "\n",
       "    function on_mouseover_closure(tooltip) {\n",
       "        return function (event) {\n",
       "            if (!event.currentTarget.disabled) {\n",
       "                return fig.toolbar_button_onmouseover(tooltip);\n",
       "            }\n",
       "        };\n",
       "    }\n",
       "\n",
       "    fig.buttons = {};\n",
       "    var buttonGroup = document.createElement('div');\n",
       "    buttonGroup.classList = 'mpl-button-group';\n",
       "    for (var toolbar_ind in mpl.toolbar_items) {\n",
       "        var name = mpl.toolbar_items[toolbar_ind][0];\n",
       "        var tooltip = mpl.toolbar_items[toolbar_ind][1];\n",
       "        var image = mpl.toolbar_items[toolbar_ind][2];\n",
       "        var method_name = mpl.toolbar_items[toolbar_ind][3];\n",
       "\n",
       "        if (!name) {\n",
       "            /* Instead of a spacer, we start a new button group. */\n",
       "            if (buttonGroup.hasChildNodes()) {\n",
       "                toolbar.appendChild(buttonGroup);\n",
       "            }\n",
       "            buttonGroup = document.createElement('div');\n",
       "            buttonGroup.classList = 'mpl-button-group';\n",
       "            continue;\n",
       "        }\n",
       "\n",
       "        var button = (fig.buttons[name] = document.createElement('button'));\n",
       "        button.classList = 'mpl-widget';\n",
       "        button.setAttribute('role', 'button');\n",
       "        button.setAttribute('aria-disabled', 'false');\n",
       "        button.addEventListener('click', on_click_closure(method_name));\n",
       "        button.addEventListener('mouseover', on_mouseover_closure(tooltip));\n",
       "\n",
       "        var icon_img = document.createElement('img');\n",
       "        icon_img.src = '_images/' + image + '.png';\n",
       "        icon_img.srcset = '_images/' + image + '_large.png 2x';\n",
       "        icon_img.alt = tooltip;\n",
       "        button.appendChild(icon_img);\n",
       "\n",
       "        buttonGroup.appendChild(button);\n",
       "    }\n",
       "\n",
       "    if (buttonGroup.hasChildNodes()) {\n",
       "        toolbar.appendChild(buttonGroup);\n",
       "    }\n",
       "\n",
       "    var fmt_picker = document.createElement('select');\n",
       "    fmt_picker.classList = 'mpl-widget';\n",
       "    toolbar.appendChild(fmt_picker);\n",
       "    this.format_dropdown = fmt_picker;\n",
       "\n",
       "    for (var ind in mpl.extensions) {\n",
       "        var fmt = mpl.extensions[ind];\n",
       "        var option = document.createElement('option');\n",
       "        option.selected = fmt === mpl.default_extension;\n",
       "        option.innerHTML = fmt;\n",
       "        fmt_picker.appendChild(option);\n",
       "    }\n",
       "\n",
       "    var status_bar = document.createElement('span');\n",
       "    status_bar.classList = 'mpl-message';\n",
       "    toolbar.appendChild(status_bar);\n",
       "    this.message = status_bar;\n",
       "};\n",
       "\n",
       "mpl.figure.prototype.request_resize = function (x_pixels, y_pixels) {\n",
       "    // Request matplotlib to resize the figure. Matplotlib will then trigger a resize in the client,\n",
       "    // which will in turn request a refresh of the image.\n",
       "    this.send_message('resize', { width: x_pixels, height: y_pixels });\n",
       "};\n",
       "\n",
       "mpl.figure.prototype.send_message = function (type, properties) {\n",
       "    properties['type'] = type;\n",
       "    properties['figure_id'] = this.id;\n",
       "    this.ws.send(JSON.stringify(properties));\n",
       "};\n",
       "\n",
       "mpl.figure.prototype.send_draw_message = function () {\n",
       "    if (!this.waiting) {\n",
       "        this.waiting = true;\n",
       "        this.ws.send(JSON.stringify({ type: 'draw', figure_id: this.id }));\n",
       "    }\n",
       "};\n",
       "\n",
       "mpl.figure.prototype.handle_save = function (fig, _msg) {\n",
       "    var format_dropdown = fig.format_dropdown;\n",
       "    var format = format_dropdown.options[format_dropdown.selectedIndex].value;\n",
       "    fig.ondownload(fig, format);\n",
       "};\n",
       "\n",
       "mpl.figure.prototype.handle_resize = function (fig, msg) {\n",
       "    var size = msg['size'];\n",
       "    if (size[0] !== fig.canvas.width || size[1] !== fig.canvas.height) {\n",
       "        fig._resize_canvas(size[0], size[1], msg['forward']);\n",
       "        fig.send_message('refresh', {});\n",
       "    }\n",
       "};\n",
       "\n",
       "mpl.figure.prototype.handle_rubberband = function (fig, msg) {\n",
       "    var x0 = msg['x0'] / fig.ratio;\n",
       "    var y0 = (fig.canvas.height - msg['y0']) / fig.ratio;\n",
       "    var x1 = msg['x1'] / fig.ratio;\n",
       "    var y1 = (fig.canvas.height - msg['y1']) / fig.ratio;\n",
       "    x0 = Math.floor(x0) + 0.5;\n",
       "    y0 = Math.floor(y0) + 0.5;\n",
       "    x1 = Math.floor(x1) + 0.5;\n",
       "    y1 = Math.floor(y1) + 0.5;\n",
       "    var min_x = Math.min(x0, x1);\n",
       "    var min_y = Math.min(y0, y1);\n",
       "    var width = Math.abs(x1 - x0);\n",
       "    var height = Math.abs(y1 - y0);\n",
       "\n",
       "    fig.rubberband_context.clearRect(\n",
       "        0,\n",
       "        0,\n",
       "        fig.canvas.width / fig.ratio,\n",
       "        fig.canvas.height / fig.ratio\n",
       "    );\n",
       "\n",
       "    fig.rubberband_context.strokeRect(min_x, min_y, width, height);\n",
       "};\n",
       "\n",
       "mpl.figure.prototype.handle_figure_label = function (fig, msg) {\n",
       "    // Updates the figure title.\n",
       "    fig.header.textContent = msg['label'];\n",
       "};\n",
       "\n",
       "mpl.figure.prototype.handle_cursor = function (fig, msg) {\n",
       "    fig.canvas_div.style.cursor = msg['cursor'];\n",
       "};\n",
       "\n",
       "mpl.figure.prototype.handle_message = function (fig, msg) {\n",
       "    fig.message.textContent = msg['message'];\n",
       "};\n",
       "\n",
       "mpl.figure.prototype.handle_draw = function (fig, _msg) {\n",
       "    // Request the server to send over a new figure.\n",
       "    fig.send_draw_message();\n",
       "};\n",
       "\n",
       "mpl.figure.prototype.handle_image_mode = function (fig, msg) {\n",
       "    fig.image_mode = msg['mode'];\n",
       "};\n",
       "\n",
       "mpl.figure.prototype.handle_history_buttons = function (fig, msg) {\n",
       "    for (var key in msg) {\n",
       "        if (!(key in fig.buttons)) {\n",
       "            continue;\n",
       "        }\n",
       "        fig.buttons[key].disabled = !msg[key];\n",
       "        fig.buttons[key].setAttribute('aria-disabled', !msg[key]);\n",
       "    }\n",
       "};\n",
       "\n",
       "mpl.figure.prototype.handle_navigate_mode = function (fig, msg) {\n",
       "    if (msg['mode'] === 'PAN') {\n",
       "        fig.buttons['Pan'].classList.add('active');\n",
       "        fig.buttons['Zoom'].classList.remove('active');\n",
       "    } else if (msg['mode'] === 'ZOOM') {\n",
       "        fig.buttons['Pan'].classList.remove('active');\n",
       "        fig.buttons['Zoom'].classList.add('active');\n",
       "    } else {\n",
       "        fig.buttons['Pan'].classList.remove('active');\n",
       "        fig.buttons['Zoom'].classList.remove('active');\n",
       "    }\n",
       "};\n",
       "\n",
       "mpl.figure.prototype.updated_canvas_event = function () {\n",
       "    // Called whenever the canvas gets updated.\n",
       "    this.send_message('ack', {});\n",
       "};\n",
       "\n",
       "// A function to construct a web socket function for onmessage handling.\n",
       "// Called in the figure constructor.\n",
       "mpl.figure.prototype._make_on_message_function = function (fig) {\n",
       "    return function socket_on_message(evt) {\n",
       "        if (evt.data instanceof Blob) {\n",
       "            var img = evt.data;\n",
       "            if (img.type !== 'image/png') {\n",
       "                /* FIXME: We get \"Resource interpreted as Image but\n",
       "                 * transferred with MIME type text/plain:\" errors on\n",
       "                 * Chrome.  But how to set the MIME type?  It doesn't seem\n",
       "                 * to be part of the websocket stream */\n",
       "                img.type = 'image/png';\n",
       "            }\n",
       "\n",
       "            /* Free the memory for the previous frames */\n",
       "            if (fig.imageObj.src) {\n",
       "                (window.URL || window.webkitURL).revokeObjectURL(\n",
       "                    fig.imageObj.src\n",
       "                );\n",
       "            }\n",
       "\n",
       "            fig.imageObj.src = (window.URL || window.webkitURL).createObjectURL(\n",
       "                img\n",
       "            );\n",
       "            fig.updated_canvas_event();\n",
       "            fig.waiting = false;\n",
       "            return;\n",
       "        } else if (\n",
       "            typeof evt.data === 'string' &&\n",
       "            evt.data.slice(0, 21) === 'data:image/png;base64'\n",
       "        ) {\n",
       "            fig.imageObj.src = evt.data;\n",
       "            fig.updated_canvas_event();\n",
       "            fig.waiting = false;\n",
       "            return;\n",
       "        }\n",
       "\n",
       "        var msg = JSON.parse(evt.data);\n",
       "        var msg_type = msg['type'];\n",
       "\n",
       "        // Call the  \"handle_{type}\" callback, which takes\n",
       "        // the figure and JSON message as its only arguments.\n",
       "        try {\n",
       "            var callback = fig['handle_' + msg_type];\n",
       "        } catch (e) {\n",
       "            console.log(\n",
       "                \"No handler for the '\" + msg_type + \"' message type: \",\n",
       "                msg\n",
       "            );\n",
       "            return;\n",
       "        }\n",
       "\n",
       "        if (callback) {\n",
       "            try {\n",
       "                // console.log(\"Handling '\" + msg_type + \"' message: \", msg);\n",
       "                callback(fig, msg);\n",
       "            } catch (e) {\n",
       "                console.log(\n",
       "                    \"Exception inside the 'handler_\" + msg_type + \"' callback:\",\n",
       "                    e,\n",
       "                    e.stack,\n",
       "                    msg\n",
       "                );\n",
       "            }\n",
       "        }\n",
       "    };\n",
       "};\n",
       "\n",
       "function getModifiers(event) {\n",
       "    var mods = [];\n",
       "    if (event.ctrlKey) {\n",
       "        mods.push('ctrl');\n",
       "    }\n",
       "    if (event.altKey) {\n",
       "        mods.push('alt');\n",
       "    }\n",
       "    if (event.shiftKey) {\n",
       "        mods.push('shift');\n",
       "    }\n",
       "    if (event.metaKey) {\n",
       "        mods.push('meta');\n",
       "    }\n",
       "    return mods;\n",
       "}\n",
       "\n",
       "/*\n",
       " * return a copy of an object with only non-object keys\n",
       " * we need this to avoid circular references\n",
       " * https://stackoverflow.com/a/24161582/3208463\n",
       " */\n",
       "function simpleKeys(original) {\n",
       "    return Object.keys(original).reduce(function (obj, key) {\n",
       "        if (typeof original[key] !== 'object') {\n",
       "            obj[key] = original[key];\n",
       "        }\n",
       "        return obj;\n",
       "    }, {});\n",
       "}\n",
       "\n",
       "mpl.figure.prototype.mouse_event = function (event, name) {\n",
       "    if (name === 'button_press') {\n",
       "        this.canvas.focus();\n",
       "        this.canvas_div.focus();\n",
       "    }\n",
       "\n",
       "    // from https://stackoverflow.com/q/1114465\n",
       "    var boundingRect = this.canvas.getBoundingClientRect();\n",
       "    var x = (event.clientX - boundingRect.left) * this.ratio;\n",
       "    var y = (event.clientY - boundingRect.top) * this.ratio;\n",
       "\n",
       "    this.send_message(name, {\n",
       "        x: x,\n",
       "        y: y,\n",
       "        button: event.button,\n",
       "        step: event.step,\n",
       "        modifiers: getModifiers(event),\n",
       "        guiEvent: simpleKeys(event),\n",
       "    });\n",
       "\n",
       "    return false;\n",
       "};\n",
       "\n",
       "mpl.figure.prototype._key_event_extra = function (_event, _name) {\n",
       "    // Handle any extra behaviour associated with a key event\n",
       "};\n",
       "\n",
       "mpl.figure.prototype.key_event = function (event, name) {\n",
       "    // Prevent repeat events\n",
       "    if (name === 'key_press') {\n",
       "        if (event.key === this._key) {\n",
       "            return;\n",
       "        } else {\n",
       "            this._key = event.key;\n",
       "        }\n",
       "    }\n",
       "    if (name === 'key_release') {\n",
       "        this._key = null;\n",
       "    }\n",
       "\n",
       "    var value = '';\n",
       "    if (event.ctrlKey && event.key !== 'Control') {\n",
       "        value += 'ctrl+';\n",
       "    }\n",
       "    else if (event.altKey && event.key !== 'Alt') {\n",
       "        value += 'alt+';\n",
       "    }\n",
       "    else if (event.shiftKey && event.key !== 'Shift') {\n",
       "        value += 'shift+';\n",
       "    }\n",
       "\n",
       "    value += 'k' + event.key;\n",
       "\n",
       "    this._key_event_extra(event, name);\n",
       "\n",
       "    this.send_message(name, { key: value, guiEvent: simpleKeys(event) });\n",
       "    return false;\n",
       "};\n",
       "\n",
       "mpl.figure.prototype.toolbar_button_onclick = function (name) {\n",
       "    if (name === 'download') {\n",
       "        this.handle_save(this, null);\n",
       "    } else {\n",
       "        this.send_message('toolbar_button', { name: name });\n",
       "    }\n",
       "};\n",
       "\n",
       "mpl.figure.prototype.toolbar_button_onmouseover = function (tooltip) {\n",
       "    this.message.textContent = tooltip;\n",
       "};\n",
       "\n",
       "///////////////// REMAINING CONTENT GENERATED BY embed_js.py /////////////////\n",
       "// prettier-ignore\n",
       "var _JSXTOOLS_RESIZE_OBSERVER=function(A){var t,i=new WeakMap,n=new WeakMap,a=new WeakMap,r=new WeakMap,o=new Set;function s(e){if(!(this instanceof s))throw new TypeError(\"Constructor requires 'new' operator\");i.set(this,e)}function h(){throw new TypeError(\"Function is not a constructor\")}function c(e,t,i,n){e=0 in arguments?Number(arguments[0]):0,t=1 in arguments?Number(arguments[1]):0,i=2 in arguments?Number(arguments[2]):0,n=3 in arguments?Number(arguments[3]):0,this.right=(this.x=this.left=e)+(this.width=i),this.bottom=(this.y=this.top=t)+(this.height=n),Object.freeze(this)}function d(){t=requestAnimationFrame(d);var s=new WeakMap,p=new Set;o.forEach((function(t){r.get(t).forEach((function(i){var r=t instanceof window.SVGElement,o=a.get(t),d=r?0:parseFloat(o.paddingTop),f=r?0:parseFloat(o.paddingRight),l=r?0:parseFloat(o.paddingBottom),u=r?0:parseFloat(o.paddingLeft),g=r?0:parseFloat(o.borderTopWidth),m=r?0:parseFloat(o.borderRightWidth),w=r?0:parseFloat(o.borderBottomWidth),b=u+f,F=d+l,v=(r?0:parseFloat(o.borderLeftWidth))+m,W=g+w,y=r?0:t.offsetHeight-W-t.clientHeight,E=r?0:t.offsetWidth-v-t.clientWidth,R=b+v,z=F+W,M=r?t.width:parseFloat(o.width)-R-E,O=r?t.height:parseFloat(o.height)-z-y;if(n.has(t)){var k=n.get(t);if(k[0]===M&&k[1]===O)return}n.set(t,[M,O]);var S=Object.create(h.prototype);S.target=t,S.contentRect=new c(u,d,M,O),s.has(i)||(s.set(i,[]),p.add(i)),s.get(i).push(S)}))})),p.forEach((function(e){i.get(e).call(e,s.get(e),e)}))}return s.prototype.observe=function(i){if(i instanceof window.Element){r.has(i)||(r.set(i,new Set),o.add(i),a.set(i,window.getComputedStyle(i)));var n=r.get(i);n.has(this)||n.add(this),cancelAnimationFrame(t),t=requestAnimationFrame(d)}},s.prototype.unobserve=function(i){if(i instanceof window.Element&&r.has(i)){var n=r.get(i);n.has(this)&&(n.delete(this),n.size||(r.delete(i),o.delete(i))),n.size||r.delete(i),o.size||cancelAnimationFrame(t)}},A.DOMRectReadOnly=c,A.ResizeObserver=s,A.ResizeObserverEntry=h,A}; // eslint-disable-line\n",
       "mpl.toolbar_items = [[\"Home\", \"Reset original view\", \"fa fa-home\", \"home\"], [\"Back\", \"Back to previous view\", \"fa fa-arrow-left\", \"back\"], [\"Forward\", \"Forward to next view\", \"fa fa-arrow-right\", \"forward\"], [\"\", \"\", \"\", \"\"], [\"Pan\", \"Left button pans, Right button zooms\\nx/y fixes axis, CTRL fixes aspect\", \"fa fa-arrows\", \"pan\"], [\"Zoom\", \"Zoom to rectangle\\nx/y fixes axis\", \"fa fa-square-o\", \"zoom\"], [\"\", \"\", \"\", \"\"], [\"Download\", \"Download plot\", \"fa fa-floppy-o\", \"download\"]];\n",
       "\n",
       "mpl.extensions = [\"eps\", \"jpeg\", \"pgf\", \"pdf\", \"png\", \"ps\", \"raw\", \"svg\", \"tif\", \"webp\"];\n",
       "\n",
       "mpl.default_extension = \"png\";/* global mpl */\n",
       "\n",
       "var comm_websocket_adapter = function (comm) {\n",
       "    // Create a \"websocket\"-like object which calls the given IPython comm\n",
       "    // object with the appropriate methods. Currently this is a non binary\n",
       "    // socket, so there is still some room for performance tuning.\n",
       "    var ws = {};\n",
       "\n",
       "    ws.binaryType = comm.kernel.ws.binaryType;\n",
       "    ws.readyState = comm.kernel.ws.readyState;\n",
       "    function updateReadyState(_event) {\n",
       "        if (comm.kernel.ws) {\n",
       "            ws.readyState = comm.kernel.ws.readyState;\n",
       "        } else {\n",
       "            ws.readyState = 3; // Closed state.\n",
       "        }\n",
       "    }\n",
       "    comm.kernel.ws.addEventListener('open', updateReadyState);\n",
       "    comm.kernel.ws.addEventListener('close', updateReadyState);\n",
       "    comm.kernel.ws.addEventListener('error', updateReadyState);\n",
       "\n",
       "    ws.close = function () {\n",
       "        comm.close();\n",
       "    };\n",
       "    ws.send = function (m) {\n",
       "        //console.log('sending', m);\n",
       "        comm.send(m);\n",
       "    };\n",
       "    // Register the callback with on_msg.\n",
       "    comm.on_msg(function (msg) {\n",
       "        //console.log('receiving', msg['content']['data'], msg);\n",
       "        var data = msg['content']['data'];\n",
       "        if (data['blob'] !== undefined) {\n",
       "            data = {\n",
       "                data: new Blob(msg['buffers'], { type: data['blob'] }),\n",
       "            };\n",
       "        }\n",
       "        // Pass the mpl event to the overridden (by mpl) onmessage function.\n",
       "        ws.onmessage(data);\n",
       "    });\n",
       "    return ws;\n",
       "};\n",
       "\n",
       "mpl.mpl_figure_comm = function (comm, msg) {\n",
       "    // This is the function which gets called when the mpl process\n",
       "    // starts-up an IPython Comm through the \"matplotlib\" channel.\n",
       "\n",
       "    var id = msg.content.data.id;\n",
       "    // Get hold of the div created by the display call when the Comm\n",
       "    // socket was opened in Python.\n",
       "    var element = document.getElementById(id);\n",
       "    var ws_proxy = comm_websocket_adapter(comm);\n",
       "\n",
       "    function ondownload(figure, _format) {\n",
       "        window.open(figure.canvas.toDataURL());\n",
       "    }\n",
       "\n",
       "    var fig = new mpl.figure(id, ws_proxy, ondownload, element);\n",
       "\n",
       "    // Call onopen now - mpl needs it, as it is assuming we've passed it a real\n",
       "    // web socket which is closed, not our websocket->open comm proxy.\n",
       "    ws_proxy.onopen();\n",
       "\n",
       "    fig.parent_element = element;\n",
       "    fig.cell_info = mpl.find_output_cell(\"<div id='\" + id + \"'></div>\");\n",
       "    if (!fig.cell_info) {\n",
       "        console.error('Failed to find cell for figure', id, fig);\n",
       "        return;\n",
       "    }\n",
       "    fig.cell_info[0].output_area.element.on(\n",
       "        'cleared',\n",
       "        { fig: fig },\n",
       "        fig._remove_fig_handler\n",
       "    );\n",
       "};\n",
       "\n",
       "mpl.figure.prototype.handle_close = function (fig, msg) {\n",
       "    var width = fig.canvas.width / fig.ratio;\n",
       "    fig.cell_info[0].output_area.element.off(\n",
       "        'cleared',\n",
       "        fig._remove_fig_handler\n",
       "    );\n",
       "    fig.resizeObserverInstance.unobserve(fig.canvas_div);\n",
       "\n",
       "    // Update the output cell to use the data from the current canvas.\n",
       "    fig.push_to_output();\n",
       "    var dataURL = fig.canvas.toDataURL();\n",
       "    // Re-enable the keyboard manager in IPython - without this line, in FF,\n",
       "    // the notebook keyboard shortcuts fail.\n",
       "    IPython.keyboard_manager.enable();\n",
       "    fig.parent_element.innerHTML =\n",
       "        '<img src=\"' + dataURL + '\" width=\"' + width + '\">';\n",
       "    fig.close_ws(fig, msg);\n",
       "};\n",
       "\n",
       "mpl.figure.prototype.close_ws = function (fig, msg) {\n",
       "    fig.send_message('closing', msg);\n",
       "    // fig.ws.close()\n",
       "};\n",
       "\n",
       "mpl.figure.prototype.push_to_output = function (_remove_interactive) {\n",
       "    // Turn the data on the canvas into data in the output cell.\n",
       "    var width = this.canvas.width / this.ratio;\n",
       "    var dataURL = this.canvas.toDataURL();\n",
       "    this.cell_info[1]['text/html'] =\n",
       "        '<img src=\"' + dataURL + '\" width=\"' + width + '\">';\n",
       "};\n",
       "\n",
       "mpl.figure.prototype.updated_canvas_event = function () {\n",
       "    // Tell IPython that the notebook contents must change.\n",
       "    IPython.notebook.set_dirty(true);\n",
       "    this.send_message('ack', {});\n",
       "    var fig = this;\n",
       "    // Wait a second, then push the new image to the DOM so\n",
       "    // that it is saved nicely (might be nice to debounce this).\n",
       "    setTimeout(function () {\n",
       "        fig.push_to_output();\n",
       "    }, 1000);\n",
       "};\n",
       "\n",
       "mpl.figure.prototype._init_toolbar = function () {\n",
       "    var fig = this;\n",
       "\n",
       "    var toolbar = document.createElement('div');\n",
       "    toolbar.classList = 'btn-toolbar';\n",
       "    this.root.appendChild(toolbar);\n",
       "\n",
       "    function on_click_closure(name) {\n",
       "        return function (_event) {\n",
       "            return fig.toolbar_button_onclick(name);\n",
       "        };\n",
       "    }\n",
       "\n",
       "    function on_mouseover_closure(tooltip) {\n",
       "        return function (event) {\n",
       "            if (!event.currentTarget.disabled) {\n",
       "                return fig.toolbar_button_onmouseover(tooltip);\n",
       "            }\n",
       "        };\n",
       "    }\n",
       "\n",
       "    fig.buttons = {};\n",
       "    var buttonGroup = document.createElement('div');\n",
       "    buttonGroup.classList = 'btn-group';\n",
       "    var button;\n",
       "    for (var toolbar_ind in mpl.toolbar_items) {\n",
       "        var name = mpl.toolbar_items[toolbar_ind][0];\n",
       "        var tooltip = mpl.toolbar_items[toolbar_ind][1];\n",
       "        var image = mpl.toolbar_items[toolbar_ind][2];\n",
       "        var method_name = mpl.toolbar_items[toolbar_ind][3];\n",
       "\n",
       "        if (!name) {\n",
       "            /* Instead of a spacer, we start a new button group. */\n",
       "            if (buttonGroup.hasChildNodes()) {\n",
       "                toolbar.appendChild(buttonGroup);\n",
       "            }\n",
       "            buttonGroup = document.createElement('div');\n",
       "            buttonGroup.classList = 'btn-group';\n",
       "            continue;\n",
       "        }\n",
       "\n",
       "        button = fig.buttons[name] = document.createElement('button');\n",
       "        button.classList = 'btn btn-default';\n",
       "        button.href = '#';\n",
       "        button.title = name;\n",
       "        button.innerHTML = '<i class=\"fa ' + image + ' fa-lg\"></i>';\n",
       "        button.addEventListener('click', on_click_closure(method_name));\n",
       "        button.addEventListener('mouseover', on_mouseover_closure(tooltip));\n",
       "        buttonGroup.appendChild(button);\n",
       "    }\n",
       "\n",
       "    if (buttonGroup.hasChildNodes()) {\n",
       "        toolbar.appendChild(buttonGroup);\n",
       "    }\n",
       "\n",
       "    // Add the status bar.\n",
       "    var status_bar = document.createElement('span');\n",
       "    status_bar.classList = 'mpl-message pull-right';\n",
       "    toolbar.appendChild(status_bar);\n",
       "    this.message = status_bar;\n",
       "\n",
       "    // Add the close button to the window.\n",
       "    var buttongrp = document.createElement('div');\n",
       "    buttongrp.classList = 'btn-group inline pull-right';\n",
       "    button = document.createElement('button');\n",
       "    button.classList = 'btn btn-mini btn-primary';\n",
       "    button.href = '#';\n",
       "    button.title = 'Stop Interaction';\n",
       "    button.innerHTML = '<i class=\"fa fa-power-off icon-remove icon-large\"></i>';\n",
       "    button.addEventListener('click', function (_evt) {\n",
       "        fig.handle_close(fig, {});\n",
       "    });\n",
       "    button.addEventListener(\n",
       "        'mouseover',\n",
       "        on_mouseover_closure('Stop Interaction')\n",
       "    );\n",
       "    buttongrp.appendChild(button);\n",
       "    var titlebar = this.root.querySelector('.ui-dialog-titlebar');\n",
       "    titlebar.insertBefore(buttongrp, titlebar.firstChild);\n",
       "};\n",
       "\n",
       "mpl.figure.prototype._remove_fig_handler = function (event) {\n",
       "    var fig = event.data.fig;\n",
       "    if (event.target !== this) {\n",
       "        // Ignore bubbled events from children.\n",
       "        return;\n",
       "    }\n",
       "    fig.close_ws(fig, {});\n",
       "};\n",
       "\n",
       "mpl.figure.prototype._root_extra_style = function (el) {\n",
       "    el.style.boxSizing = 'content-box'; // override notebook setting of border-box.\n",
       "};\n",
       "\n",
       "mpl.figure.prototype._canvas_extra_style = function (el) {\n",
       "    // this is important to make the div 'focusable\n",
       "    el.setAttribute('tabindex', 0);\n",
       "    // reach out to IPython and tell the keyboard manager to turn it's self\n",
       "    // off when our div gets focus\n",
       "\n",
       "    // location in version 3\n",
       "    if (IPython.notebook.keyboard_manager) {\n",
       "        IPython.notebook.keyboard_manager.register_events(el);\n",
       "    } else {\n",
       "        // location in version 2\n",
       "        IPython.keyboard_manager.register_events(el);\n",
       "    }\n",
       "};\n",
       "\n",
       "mpl.figure.prototype._key_event_extra = function (event, _name) {\n",
       "    // Check for shift+enter\n",
       "    if (event.shiftKey && event.which === 13) {\n",
       "        this.canvas_div.blur();\n",
       "        // select the cell after this one\n",
       "        var index = IPython.notebook.find_cell_index(this.cell_info[0]);\n",
       "        IPython.notebook.select(index + 1);\n",
       "    }\n",
       "};\n",
       "\n",
       "mpl.figure.prototype.handle_save = function (fig, _msg) {\n",
       "    fig.ondownload(fig, null);\n",
       "};\n",
       "\n",
       "mpl.find_output_cell = function (html_output) {\n",
       "    // Return the cell and output element which can be found *uniquely* in the notebook.\n",
       "    // Note - this is a bit hacky, but it is done because the \"notebook_saving.Notebook\"\n",
       "    // IPython event is triggered only after the cells have been serialised, which for\n",
       "    // our purposes (turning an active figure into a static one), is too late.\n",
       "    var cells = IPython.notebook.get_cells();\n",
       "    var ncells = cells.length;\n",
       "    for (var i = 0; i < ncells; i++) {\n",
       "        var cell = cells[i];\n",
       "        if (cell.cell_type === 'code') {\n",
       "            for (var j = 0; j < cell.output_area.outputs.length; j++) {\n",
       "                var data = cell.output_area.outputs[j];\n",
       "                if (data.data) {\n",
       "                    // IPython >= 3 moved mimebundle to data attribute of output\n",
       "                    data = data.data;\n",
       "                }\n",
       "                if (data['text/html'] === html_output) {\n",
       "                    return [cell, data, j];\n",
       "                }\n",
       "            }\n",
       "        }\n",
       "    }\n",
       "};\n",
       "\n",
       "// Register the function which deals with the matplotlib target/channel.\n",
       "// The kernel may be null if the page has been refreshed.\n",
       "if (IPython.notebook.kernel !== null) {\n",
       "    IPython.notebook.kernel.comm_manager.register_target(\n",
       "        'matplotlib',\n",
       "        mpl.mpl_figure_comm\n",
       "    );\n",
       "}\n"
      ],
      "text/plain": [
       "<IPython.core.display.Javascript object>"
      ]
     },
     "metadata": {},
     "output_type": "display_data"
    },
    {
     "data": {
      "text/html": [
       "<img src=\"data:image/png;base64,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\" width=\"640\">"
      ],
      "text/plain": [
       "<IPython.core.display.HTML object>"
      ]
     },
     "metadata": {},
     "output_type": "display_data"
    },
    {
     "name": "stdout",
     "output_type": "stream",
     "text": [
      "\u001b[1m13/13\u001b[0m \u001b[32m━━━━━━━━━━━━━━━━━━━━\u001b[0m\u001b[37m\u001b[0m \u001b[1m0s\u001b[0m 1ms/step \n"
     ]
    },
    {
     "data": {
      "text/plain": [
       "<matplotlib.legend.Legend at 0x7459cb22a750>"
      ]
     },
     "execution_count": 34,
     "metadata": {},
     "output_type": "execute_result"
    }
   ],
   "source": [
    "%matplotlib notebook\n",
    "fig = plt.figure()\n",
    "ax = fig.add_subplot(projection='3d')\n",
    "ax.set_xlabel('age')\n",
    "ax.set_ylabel('height')\n",
    "ax.set_zlabel('weight')\n",
    "\n",
    "x_train = train['age']\n",
    "y_train = train['height']\n",
    "z_train = train['weight']\n",
    "\n",
    "x_test = test['age']\n",
    "y_test = test['height']\n",
    "z_test = test['weight']\n",
    "\n",
    "ax.scatter(x_train, y_train, z_train, label='train', color='blue', alpha=0.3)\n",
    "ax.scatter(x_test, y_test, z_test, label='test', color='orange', alpha=0.6)\n",
    "\n",
    "\n",
    "\n",
    "x = np.linspace(min(x_train), max(x_train), 20)\n",
    "y = np.linspace(min(y_train), max(y_train), 20)\n",
    "X,Y = np.meshgrid(x,y)\n",
    "\n",
    "predict_points = np.array(list(zip(np.ravel(X), np.ravel(Y))))\n",
    "Z = best_model.predict(predict_points)\n",
    "Z = Z.reshape(X.shape)\n",
    "\n",
    "std = train['weight'].std()\n",
    "mean = train['weight'].mean()\n",
    "Z = (Z * std) + mean\n",
    "\n",
    "xo = -50\n",
    "yo = -10\n",
    "zo = 0\n",
    "\n",
    "ax.plot_surface(X,Y,Z, label='Предсказание', color='green', alpha=0.5)\n",
    "ax.contourf(X,Y,Z, zdir='z', offset=zo, alpha=0.5)\n",
    "ax.contourf(X,Y,Z, zdir='x', offset=xo, alpha=0.5)\n",
    "ax.contourf(X,Y,Z, zdir='y', offset=yo, alpha=0.5)\n",
    "\n",
    "ax.scatter(x_train, y_train, color='blue', alpha=0.3, zdir='z', zs=zo)\n",
    "ax.scatter(y_train, z_train, color='blue', alpha=0.3, zdir='x', zs=xo)\n",
    "ax.scatter(x_train, z_train, color='blue', alpha=0.3, zdir='y', zs=yo)\n",
    "\n",
    "ax.scatter(x_test, y_test, color='orange', alpha=0.5, zdir='z', zs=zo)\n",
    "ax.scatter(y_test, z_test, color='orange', alpha=0.5, zdir='x', zs=xo)\n",
    "ax.scatter(x_test, z_test, color='orange', alpha=0.5, zdir='y', zs=yo)\n",
    "\n",
    "ax.view_init(elev=20, azim=-20, roll=0)\n",
    "ax.set_xlim(xo, 100)\n",
    "ax.set_ylim(yo, 200)\n",
    "ax.set_zlim(zo, 80)\n",
    "ax.set_title(\"Датасет vs. предсказания модели\")\n",
    "ax.legend()"
   ]
  },
  {
   "cell_type": "code",
   "execution_count": null,
   "metadata": {},
   "outputs": [],
   "source": []
  }
 ],
 "metadata": {
  "colab": {
   "name": "Lab_report.ipynb",
   "provenance": []
  },
  "kernelspec": {
   "display_name": "Python 3 (ipykernel)",
   "language": "python",
   "name": "python3"
  },
  "language_info": {
   "codemirror_mode": {
    "name": "ipython",
    "version": 3
   },
   "file_extension": ".py",
   "mimetype": "text/x-python",
   "name": "python",
   "nbconvert_exporter": "python",
   "pygments_lexer": "ipython3",
   "version": "3.11.8"
  }
 },
 "nbformat": 4,
 "nbformat_minor": 4
}
