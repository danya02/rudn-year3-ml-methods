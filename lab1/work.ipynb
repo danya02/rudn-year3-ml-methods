{
 "cells": [
  {
   "cell_type": "markdown",
   "metadata": {
    "id": "bkvu6piHt3ra"
   },
   "source": [
    "### РОССИЙСКИЙ УНИВЕРСИТЕТ ДРУЖБЫ НАРОДОВ\n",
    "\n",
    "#### Факультет физико-математических и естественных наук  \n",
    "#### Кафедра математического моделирования и искусственного интеллекта "
   ]
  },
  {
   "cell_type": "markdown",
   "metadata": {
    "id": "djXIWnpjt3rf"
   },
   "source": [
    "## ОТЧЕТ ПО КОНТРОЛЬНОЙ РАБОТЕ № 1\n",
    "\n",
    "\n",
    "### Дисциплина: Методы машинного обучения"
   ]
  },
  {
   "cell_type": "markdown",
   "metadata": {
    "id": "fo_ynhTst3rg"
   },
   "source": [
    "##### Студент:  Генералов Даниил\n",
    "##### Группа:   НПИбд-01-21"
   ]
  },
  {
   "cell_type": "markdown",
   "metadata": {
    "id": "TbvGIymht3rh"
   },
   "source": [
    "## Москва 2024\n",
    "***"
   ]
  },
  {
   "cell_type": "markdown",
   "metadata": {
    "id": "avs03Eqmt3rh"
   },
   "source": [
    "### Вариант №22\n",
    "\n",
    "Текст задания:\n",
    "\n",
    "1. Набор данных: howell \n",
    "\n",
    "2. Независимая переменная: height \n",
    "\n",
    "3. Зависимая переменная: weight \n",
    "\n",
    "4. Визуализация для независимой переменной – столбчатая диаграмма \n",
    "\n",
    "5. Визуализация для зависимой переменной – эмпирическая плотность распределения \n",
    "\n",
    "6. Показатель качества регрессии – R^2 (коэффициент детерминации) \n",
    "\n"
   ]
  },
  {
   "cell_type": "markdown",
   "metadata": {},
   "source": [
    "# 1: загружаем данные"
   ]
  },
  {
   "cell_type": "code",
   "execution_count": 1,
   "metadata": {},
   "outputs": [
    {
     "name": "stderr",
     "output_type": "stream",
     "text": [
      "2024-04-19 02:26:41.295233: I tensorflow/core/platform/cpu_feature_guard.cc:210] This TensorFlow binary is optimized to use available CPU instructions in performance-critical operations.\n",
      "To enable the following instructions: AVX2 FMA, in other operations, rebuild TensorFlow with the appropriate compiler flags.\n",
      "2024-04-19 02:26:42.335666: W tensorflow/compiler/tf2tensorrt/utils/py_utils.cc:38] TF-TRT Warning: Could not find TensorRT\n"
     ]
    }
   ],
   "source": [
    "try:\n",
    "    import tensorflow as tf\n",
    "    import tensorflow_datasets as tfds\n",
    "    import matplotlib.pyplot as plt\n",
    "    import pandas\n",
    "    import numpy as np\n",
    "except ImportError:\n",
    "    !pip3 install tensorflow\n",
    "    !pip3 install tfds-nightly\n",
    "    !pip3 install matplotlib\n",
    "    !pip3 install pandas\n",
    "    !pip3 install numpy\n",
    "    import tensorflow as tf\n",
    "    import tensorflow_datasets as tfds\n",
    "    import matplotlib.pyplot as plt\n",
    "    import pandas\n",
    "    import numpy as np"
   ]
  },
  {
   "cell_type": "code",
   "execution_count": 2,
   "metadata": {},
   "outputs": [],
   "source": [
    "from IPython import display as D\n",
    "disp = D.display\n",
    "MD = D.Markdown"
   ]
  },
  {
   "cell_type": "code",
   "execution_count": 3,
   "metadata": {
    "scrolled": true
   },
   "outputs": [
    {
     "name": "stderr",
     "output_type": "stream",
     "text": [
      "WARNING:absl:You use TensorFlow DType <dtype: 'float32'> in tfds.features This will soon be deprecated in favor of NumPy DTypes. In the meantime it was converted to float32.\n",
      "WARNING:absl:You use TensorFlow DType <dtype: 'int32'> in tfds.features This will soon be deprecated in favor of NumPy DTypes. In the meantime it was converted to int32.\n",
      "2024-04-19 02:26:44.155469: E external/local_xla/xla/stream_executor/cuda/cuda_driver.cc:282] failed call to cuInit: CUDA_ERROR_NO_DEVICE: no CUDA-capable device is detected\n",
      "2024-04-19 02:26:44.437335: W tensorflow/core/framework/local_rendezvous.cc:404] Local rendezvous is aborting with status: OUT_OF_RANGE: End of sequence\n"
     ]
    },
    {
     "data": {
      "text/html": [
       "<div>\n",
       "<style scoped>\n",
       "    .dataframe tbody tr th:only-of-type {\n",
       "        vertical-align: middle;\n",
       "    }\n",
       "\n",
       "    .dataframe tbody tr th {\n",
       "        vertical-align: top;\n",
       "    }\n",
       "\n",
       "    .dataframe thead th {\n",
       "        text-align: right;\n",
       "    }\n",
       "</style>\n",
       "<table border=\"1\" class=\"dataframe\">\n",
       "  <thead>\n",
       "    <tr style=\"text-align: right;\">\n",
       "      <th></th>\n",
       "      <th>age</th>\n",
       "      <th>height</th>\n",
       "      <th>male</th>\n",
       "      <th>weight</th>\n",
       "    </tr>\n",
       "  </thead>\n",
       "  <tbody>\n",
       "    <tr>\n",
       "      <th>0</th>\n",
       "      <td>20.0</td>\n",
       "      <td>154.899994</td>\n",
       "      <td>1</td>\n",
       "      <td>38.200001</td>\n",
       "    </tr>\n",
       "    <tr>\n",
       "      <th>1</th>\n",
       "      <td>21.0</td>\n",
       "      <td>155.574997</td>\n",
       "      <td>0</td>\n",
       "      <td>45.529297</td>\n",
       "    </tr>\n",
       "    <tr>\n",
       "      <th>2</th>\n",
       "      <td>21.0</td>\n",
       "      <td>146.050003</td>\n",
       "      <td>0</td>\n",
       "      <td>44.763859</td>\n",
       "    </tr>\n",
       "    <tr>\n",
       "      <th>3</th>\n",
       "      <td>21.0</td>\n",
       "      <td>163.830002</td>\n",
       "      <td>1</td>\n",
       "      <td>46.776676</td>\n",
       "    </tr>\n",
       "    <tr>\n",
       "      <th>4</th>\n",
       "      <td>18.0</td>\n",
       "      <td>149.225006</td>\n",
       "      <td>0</td>\n",
       "      <td>42.127357</td>\n",
       "    </tr>\n",
       "  </tbody>\n",
       "</table>\n",
       "</div>"
      ],
      "text/plain": [
       "    age      height  male     weight\n",
       "0  20.0  154.899994     1  38.200001\n",
       "1  21.0  155.574997     0  45.529297\n",
       "2  21.0  146.050003     0  44.763859\n",
       "3  21.0  163.830002     1  46.776676\n",
       "4  18.0  149.225006     0  42.127357"
      ]
     },
     "execution_count": 3,
     "metadata": {},
     "output_type": "execute_result"
    }
   ],
   "source": [
    "data = tfds.load('howell', split='train')\n",
    "df = tfds.as_dataframe(data)\n",
    "df.head()"
   ]
  },
  {
   "cell_type": "code",
   "execution_count": 4,
   "metadata": {},
   "outputs": [
    {
     "name": "stdout",
     "output_type": "stream",
     "text": [
      "<class 'tensorflow_datasets.core.as_dataframe.as_dataframe.<locals>.StyledDataFrame'>\n",
      "RangeIndex: 544 entries, 0 to 543\n",
      "Data columns (total 4 columns):\n",
      " #   Column  Non-Null Count  Dtype  \n",
      "---  ------  --------------  -----  \n",
      " 0   age     544 non-null    float32\n",
      " 1   height  544 non-null    float32\n",
      " 2   male    544 non-null    int32  \n",
      " 3   weight  544 non-null    float32\n",
      "dtypes: float32(3), int32(1)\n",
      "memory usage: 8.6 KB\n"
     ]
    }
   ],
   "source": [
    "df.info()"
   ]
  },
  {
   "cell_type": "code",
   "execution_count": 5,
   "metadata": {},
   "outputs": [
    {
     "data": {
      "text/html": [
       "<div>\n",
       "<style scoped>\n",
       "    .dataframe tbody tr th:only-of-type {\n",
       "        vertical-align: middle;\n",
       "    }\n",
       "\n",
       "    .dataframe tbody tr th {\n",
       "        vertical-align: top;\n",
       "    }\n",
       "\n",
       "    .dataframe thead th {\n",
       "        text-align: right;\n",
       "    }\n",
       "</style>\n",
       "<table border=\"1\" class=\"dataframe\">\n",
       "  <thead>\n",
       "    <tr style=\"text-align: right;\">\n",
       "      <th></th>\n",
       "      <th>age</th>\n",
       "      <th>height</th>\n",
       "      <th>weight</th>\n",
       "    </tr>\n",
       "  </thead>\n",
       "  <tbody>\n",
       "    <tr>\n",
       "      <th>0</th>\n",
       "      <td>20.0</td>\n",
       "      <td>154.899994</td>\n",
       "      <td>38.200001</td>\n",
       "    </tr>\n",
       "    <tr>\n",
       "      <th>1</th>\n",
       "      <td>21.0</td>\n",
       "      <td>155.574997</td>\n",
       "      <td>45.529297</td>\n",
       "    </tr>\n",
       "    <tr>\n",
       "      <th>2</th>\n",
       "      <td>21.0</td>\n",
       "      <td>146.050003</td>\n",
       "      <td>44.763859</td>\n",
       "    </tr>\n",
       "    <tr>\n",
       "      <th>3</th>\n",
       "      <td>21.0</td>\n",
       "      <td>163.830002</td>\n",
       "      <td>46.776676</td>\n",
       "    </tr>\n",
       "    <tr>\n",
       "      <th>4</th>\n",
       "      <td>18.0</td>\n",
       "      <td>149.225006</td>\n",
       "      <td>42.127357</td>\n",
       "    </tr>\n",
       "  </tbody>\n",
       "</table>\n",
       "</div>"
      ],
      "text/plain": [
       "    age      height     weight\n",
       "0  20.0  154.899994  38.200001\n",
       "1  21.0  155.574997  45.529297\n",
       "2  21.0  146.050003  44.763859\n",
       "3  21.0  163.830002  46.776676\n",
       "4  18.0  149.225006  42.127357"
      ]
     },
     "execution_count": 5,
     "metadata": {},
     "output_type": "execute_result"
    }
   ],
   "source": [
    "df = df.drop(columns=['male'])\n",
    "df.head()"
   ]
  },
  {
   "cell_type": "markdown",
   "metadata": {},
   "source": [
    "# 6.1: разбиение на test/train\n"
   ]
  },
  {
   "cell_type": "code",
   "execution_count": 6,
   "metadata": {},
   "outputs": [
    {
     "data": {
      "text/plain": [
       "(416, 128)"
      ]
     },
     "execution_count": 6,
     "metadata": {},
     "output_type": "execute_result"
    }
   ],
   "source": [
    "import random\n",
    "random.seed('Генералов Даниил')\n",
    "test_ratio = 0.2\n",
    "\n",
    "train = pandas.DataFrame(columns=df.columns)\n",
    "test = pandas.DataFrame(columns=df.columns)\n",
    "for row_idx in range(len(df)):\n",
    "    row = df.loc[row_idx, :]\n",
    "    if random.random() < test_ratio:\n",
    "        test.loc[len(test), :] = row\n",
    "    else:\n",
    "        train.loc[len(train), :] = row\n",
    "\n",
    "len(train), len(test)"
   ]
  },
  {
   "cell_type": "markdown",
   "metadata": {},
   "source": [
    "# 1: анализ данных\n"
   ]
  },
  {
   "cell_type": "code",
   "execution_count": 7,
   "metadata": {},
   "outputs": [
    {
     "data": {
      "text/markdown": [
       "## Матрица корреляции:"
      ],
      "text/plain": [
       "<IPython.core.display.Markdown object>"
      ]
     },
     "metadata": {},
     "output_type": "display_data"
    },
    {
     "data": {
      "text/html": [
       "<div>\n",
       "<style scoped>\n",
       "    .dataframe tbody tr th:only-of-type {\n",
       "        vertical-align: middle;\n",
       "    }\n",
       "\n",
       "    .dataframe tbody tr th {\n",
       "        vertical-align: top;\n",
       "    }\n",
       "\n",
       "    .dataframe thead th {\n",
       "        text-align: right;\n",
       "    }\n",
       "</style>\n",
       "<table border=\"1\" class=\"dataframe\">\n",
       "  <thead>\n",
       "    <tr style=\"text-align: right;\">\n",
       "      <th></th>\n",
       "      <th>age</th>\n",
       "      <th>height</th>\n",
       "      <th>weight</th>\n",
       "    </tr>\n",
       "  </thead>\n",
       "  <tbody>\n",
       "    <tr>\n",
       "      <th>age</th>\n",
       "      <td>1.000000</td>\n",
       "      <td>0.697215</td>\n",
       "      <td>0.690052</td>\n",
       "    </tr>\n",
       "    <tr>\n",
       "      <th>height</th>\n",
       "      <td>0.697215</td>\n",
       "      <td>1.000000</td>\n",
       "      <td>0.941922</td>\n",
       "    </tr>\n",
       "    <tr>\n",
       "      <th>weight</th>\n",
       "      <td>0.690052</td>\n",
       "      <td>0.941922</td>\n",
       "      <td>1.000000</td>\n",
       "    </tr>\n",
       "  </tbody>\n",
       "</table>\n",
       "</div>"
      ],
      "text/plain": [
       "             age    height    weight\n",
       "age     1.000000  0.697215  0.690052\n",
       "height  0.697215  1.000000  0.941922\n",
       "weight  0.690052  0.941922  1.000000"
      ]
     },
     "metadata": {},
     "output_type": "display_data"
    },
    {
     "data": {
      "text/markdown": [
       "## Минимальная корреляция:"
      ],
      "text/plain": [
       "<IPython.core.display.Markdown object>"
      ]
     },
     "metadata": {},
     "output_type": "display_data"
    },
    {
     "name": "stdout",
     "output_type": "stream",
     "text": [
      "('age', 'weight') -> 0.6900518884319605\n"
     ]
    },
    {
     "data": {
      "text/markdown": [
       "## Максимальная корреляция:"
      ],
      "text/plain": [
       "<IPython.core.display.Markdown object>"
      ]
     },
     "metadata": {},
     "output_type": "display_data"
    },
    {
     "name": "stdout",
     "output_type": "stream",
     "text": [
      "('height', 'weight') -> 0.9419218557199522\n"
     ]
    }
   ],
   "source": [
    "disp(MD(\"## Матрица корреляции:\"))\n",
    "cor = train.corr()\n",
    "disp(cor)\n",
    "\n",
    "disp(MD(\"## Минимальная корреляция:\"))\n",
    "cor_st = cor.stack()\n",
    "idx = cor_st.idxmin()\n",
    "print(idx, '->', cor_st[idx])\n",
    "disp(MD(\"## Максимальная корреляция:\"))\n",
    "idx = cor_st[cor_st!=1.0].idxmax()\n",
    "print(idx, '->', cor_st[idx])"
   ]
  },
  {
   "cell_type": "markdown",
   "metadata": {},
   "source": [
    "# 2: визуализация\n"
   ]
  },
  {
   "cell_type": "code",
   "execution_count": 8,
   "metadata": {},
   "outputs": [
    {
     "data": {
      "image/png": "[encoded data removed]",
      "text/plain": [
       "<Figure size 640x480 with 1 Axes>"
      ]
     },
     "metadata": {},
     "output_type": "display_data"
    }
   ],
   "source": [
    "# Независимая переменная\n",
    "fig, ax = plt.subplots()\n",
    "ax.hist((train['height'], test['height']), label=['train', 'test'], bins=25)\n",
    "ax.legend()\n",
    "ax.set_title(\"Гистограмма распределения 'height'\")\n",
    "plt.show()"
   ]
  },
  {
   "cell_type": "code",
   "execution_count": 9,
   "metadata": {},
   "outputs": [
    {
     "data": {
      "text/plain": [
       "<matplotlib.legend.Legend at 0x7ecba155e950>"
      ]
     },
     "execution_count": 9,
     "metadata": {},
     "output_type": "execute_result"
    },
    {
     "data": {
      "image/png": "[encoded data removed]",
      "text/plain": [
       "<Figure size 640x480 with 1 Axes>"
      ]
     },
     "metadata": {},
     "output_type": "display_data"
    }
   ],
   "source": [
    "tx_train = np.sort(train['weight'])\n",
    "ty_train = np.arange(len(tx_train)) / (len(tx_train)+0.0)\n",
    "\n",
    "fig, ax = plt.subplots()\n",
    "plt.plot(tx_train, ty_train, label='train')\n",
    "ax.set_title(\"Эмпирическая плотность распределения\")\n",
    "\n",
    "tx_test = np.sort(test['weight'])\n",
    "ty_test = np.arange(len(tx_test)) / (len(tx_test)+0.0)\n",
    "\n",
    "plt.plot(tx_test, ty_test, color='orange', label='test')\n",
    "plt.legend()"
   ]
  },
  {
   "cell_type": "markdown",
   "metadata": {},
   "source": [
    "# 3: диаграма рассеивания\n",
    "\n",
    "Отдельно стоящих точек нет"
   ]
  },
  {
   "cell_type": "code",
   "execution_count": 10,
   "metadata": {
    "scrolled": true
   },
   "outputs": [
    {
     "data": {
      "text/plain": [
       "<Axes: title={'center': 'Диаграмма рассеивания'}, xlabel='height', ylabel='weight'>"
      ]
     },
     "execution_count": 10,
     "metadata": {},
     "output_type": "execute_result"
    },
    {
     "data": {
      "image/png": "[encoded data removed]",
      "text/plain": [
       "<Figure size 640x480 with 1 Axes>"
      ]
     },
     "metadata": {},
     "output_type": "display_data"
    }
   ],
   "source": [
    "train.plot.scatter('height', 'weight', title='Диаграмма рассеивания')"
   ]
  },
  {
   "cell_type": "markdown",
   "metadata": {},
   "source": [
    "# 4: линейная регрессия\n"
   ]
  },
  {
   "cell_type": "code",
   "execution_count": 11,
   "metadata": {},
   "outputs": [
    {
     "data": {
      "text/plain": [
       "SimpleLinReg(y = 0.4931890744808294x + -32.618772403482915)"
      ]
     },
     "execution_count": 11,
     "metadata": {},
     "output_type": "execute_result"
    }
   ],
   "source": [
    "# явной схемой\n",
    "class SimpleLinReg:\n",
    "    def __init__(self):\n",
    "        self.a_ = None\n",
    "        self.b_ = None\n",
    "\n",
    "    def fit(self, x_train, y_train):\n",
    "        assert x_train.ndim == 1, \\\n",
    "            \"В данных должен быть один признак\"\n",
    "        assert len(x_train) == len(y_train), \\\n",
    "            \"Данные должны иметь одинаковый размер\"\n",
    "\n",
    "        x_mean = np.mean(x_train)\n",
    "        y_mean = np.mean(y_train)\n",
    "\n",
    "        self.a_ = (x_train - x_mean).dot(y_train - y_mean) / \\\n",
    "                  (x_train - x_mean).dot(x_train - x_mean)\n",
    "        self.b_ = y_mean - self.a_ * x_mean\n",
    "\n",
    "        return self\n",
    "    def predict(self, x_predict):\n",
    "        assert x_predict.ndim == 1, \\\n",
    "            \"В данных должен быть один признак\"\n",
    "        assert self.a_ is not None and self.b_ is not None, \\\n",
    "            \"Модель вначале должна быть обучена\"\n",
    "\n",
    "        return np.array([self._predict(x) for x in x_predict])\n",
    "\n",
    "    def _predict(self, x_single):\n",
    "        return self.a_ * x_single + self.b_\n",
    "    def __repr__(self):\n",
    "        return f\"SimpleLinReg(y = {self.a_}x + {self.b_})\"\n",
    "    \n",
    "    # https://stackoverflow.com/a/61548813/5936187\n",
    "    def r_squared(self, x_predict, y_true):\n",
    "        y_bar = y_true.mean()\n",
    "        y_hat = self.predict(x_predict)\n",
    "        ss_tot = ((y_true-y_bar)**2).sum()\n",
    "        ss_res = ((y_true-y_hat)**2).sum()\n",
    "        return 1 - (ss_res/ss_tot)\n",
    "\n",
    "x = train[\"height\"]\n",
    "y = train[\"weight\"]\n",
    "x_test = test[\"height\"]\n",
    "y_test = test[\"weight\"]\n",
    "\n",
    "regression = SimpleLinReg()\n",
    "regression.fit(x, y)\n",
    "r2 = regression.r_squared(x_test, y_test)\n",
    "regression"
   ]
  },
  {
   "cell_type": "code",
   "execution_count": 12,
   "metadata": {},
   "outputs": [],
   "source": [
    "y_hat_explicit_train = regression.predict(x)\n",
    "y_hat_explicit_test = regression.predict(x_test)"
   ]
  },
  {
   "cell_type": "code",
   "execution_count": 13,
   "metadata": {},
   "outputs": [
    {
     "data": {
      "text/plain": [
       "<matplotlib.legend.Legend at 0x7ecba159cad0>"
      ]
     },
     "execution_count": 13,
     "metadata": {},
     "output_type": "execute_result"
    },
    {
     "data": {
      "image/png": "[encoded data removed]",
      "text/plain": [
       "<Figure size 640x480 with 1 Axes>"
      ]
     },
     "metadata": {},
     "output_type": "display_data"
    }
   ],
   "source": [
    "ax = train.plot.scatter('height', 'weight', title='Диаграмма рассеивания', label='train')\n",
    "ax.scatter(test['height'], test['weight'], color='orange', label='test')\n",
    "ax.plot(x_test, y_hat_explicit_test, color='r', label='явная схема')\n",
    "ax.legend()"
   ]
  },
  {
   "cell_type": "code",
   "execution_count": 14,
   "metadata": {
    "scrolled": true
   },
   "outputs": [
    {
     "data": {
      "text/plain": [
       "25.441917756669504"
      ]
     },
     "execution_count": 14,
     "metadata": {},
     "output_type": "execute_result"
    }
   ],
   "source": [
    "mean_sq_error = sum([(lin - actual)**2 for lin, actual in zip(y_hat_explicit_test, y_test)]) / len(y_test)\n",
    "mean_sq_error"
   ]
  },
  {
   "cell_type": "code",
   "execution_count": 15,
   "metadata": {},
   "outputs": [
    {
     "data": {
      "text/html": [
       "<pre style=\"white-space:pre;overflow-x:auto;line-height:normal;font-family:Menlo,'DejaVu Sans Mono',consolas,'Courier New',monospace\"><span style=\"font-weight: bold\">Model: \"sequential\"</span>\n",
       "</pre>\n"
      ],
      "text/plain": [
       "\u001b[1mModel: \"sequential\"\u001b[0m\n"
      ]
     },
     "metadata": {},
     "output_type": "display_data"
    },
    {
     "data": {
      "text/html": [
       "<pre style=\"white-space:pre;overflow-x:auto;line-height:normal;font-family:Menlo,'DejaVu Sans Mono',consolas,'Courier New',monospace\">┏━━━━━━━━━━━━━━━━━━━━━━━━━━━━━━━━━┳━━━━━━━━━━━━━━━━━━━━━━━━┳━━━━━━━━━━━━━━━┓\n",
       "┃<span style=\"font-weight: bold\"> Layer (type)                    </span>┃<span style=\"font-weight: bold\"> Output Shape           </span>┃<span style=\"font-weight: bold\">       Param # </span>┃\n",
       "┡━━━━━━━━━━━━━━━━━━━━━━━━━━━━━━━━━╇━━━━━━━━━━━━━━━━━━━━━━━━╇━━━━━━━━━━━━━━━┩\n",
       "│ dense (<span style=\"color: #0087ff; text-decoration-color: #0087ff\">Dense</span>)                   │ (<span style=\"color: #00d7ff; text-decoration-color: #00d7ff\">None</span>, <span style=\"color: #00af00; text-decoration-color: #00af00\">1</span>)              │             <span style=\"color: #00af00; text-decoration-color: #00af00\">2</span> │\n",
       "└─────────────────────────────────┴────────────────────────┴───────────────┘\n",
       "</pre>\n"
      ],
      "text/plain": [
       "┏━━━━━━━━━━━━━━━━━━━━━━━━━━━━━━━━━┳━━━━━━━━━━━━━━━━━━━━━━━━┳━━━━━━━━━━━━━━━┓\n",
       "┃\u001b[1m \u001b[0m\u001b[1mLayer (type)                   \u001b[0m\u001b[1m \u001b[0m┃\u001b[1m \u001b[0m\u001b[1mOutput Shape          \u001b[0m\u001b[1m \u001b[0m┃\u001b[1m \u001b[0m\u001b[1m      Param #\u001b[0m\u001b[1m \u001b[0m┃\n",
       "┡━━━━━━━━━━━━━━━━━━━━━━━━━━━━━━━━━╇━━━━━━━━━━━━━━━━━━━━━━━━╇━━━━━━━━━━━━━━━┩\n",
       "│ dense (\u001b[38;5;33mDense\u001b[0m)                   │ (\u001b[38;5;45mNone\u001b[0m, \u001b[38;5;34m1\u001b[0m)              │             \u001b[38;5;34m2\u001b[0m │\n",
       "└─────────────────────────────────┴────────────────────────┴───────────────┘\n"
      ]
     },
     "metadata": {},
     "output_type": "display_data"
    },
    {
     "data": {
      "text/html": [
       "<pre style=\"white-space:pre;overflow-x:auto;line-height:normal;font-family:Menlo,'DejaVu Sans Mono',consolas,'Courier New',monospace\"><span style=\"font-weight: bold\"> Total params: </span><span style=\"color: #00af00; text-decoration-color: #00af00\">2</span> (8.00 B)\n",
       "</pre>\n"
      ],
      "text/plain": [
       "\u001b[1m Total params: \u001b[0m\u001b[38;5;34m2\u001b[0m (8.00 B)\n"
      ]
     },
     "metadata": {},
     "output_type": "display_data"
    },
    {
     "data": {
      "text/html": [
       "<pre style=\"white-space:pre;overflow-x:auto;line-height:normal;font-family:Menlo,'DejaVu Sans Mono',consolas,'Courier New',monospace\"><span style=\"font-weight: bold\"> Trainable params: </span><span style=\"color: #00af00; text-decoration-color: #00af00\">2</span> (8.00 B)\n",
       "</pre>\n"
      ],
      "text/plain": [
       "\u001b[1m Trainable params: \u001b[0m\u001b[38;5;34m2\u001b[0m (8.00 B)\n"
      ]
     },
     "metadata": {},
     "output_type": "display_data"
    },
    {
     "data": {
      "text/html": [
       "<pre style=\"white-space:pre;overflow-x:auto;line-height:normal;font-family:Menlo,'DejaVu Sans Mono',consolas,'Courier New',monospace\"><span style=\"font-weight: bold\"> Non-trainable params: </span><span style=\"color: #00af00; text-decoration-color: #00af00\">0</span> (0.00 B)\n",
       "</pre>\n"
      ],
      "text/plain": [
       "\u001b[1m Non-trainable params: \u001b[0m\u001b[38;5;34m0\u001b[0m (0.00 B)\n"
      ]
     },
     "metadata": {},
     "output_type": "display_data"
    }
   ],
   "source": [
    "# нейросетью\n",
    "model = tf.keras.Sequential([\n",
    "    tf.keras.layers.Input((1,)),\n",
    "    tf.keras.layers.Dense(1),\n",
    "])\n",
    "model.summary()"
   ]
  },
  {
   "cell_type": "code",
   "execution_count": 16,
   "metadata": {},
   "outputs": [],
   "source": [
    "model.compile(\n",
    "    loss=tf.keras.losses.MAE,\n",
    "    optimizer=tf.keras.optimizers.Adam(learning_rate=0.05),\n",
    "    metrics=[\"r2_score\"]\n",
    ")"
   ]
  },
  {
   "cell_type": "code",
   "execution_count": 17,
   "metadata": {},
   "outputs": [
    {
     "data": {
      "text/plain": [
       "<keras.src.callbacks.history.History at 0x7ecba15aaad0>"
      ]
     },
     "execution_count": 17,
     "metadata": {},
     "output_type": "execute_result"
    }
   ],
   "source": [
    "x = np.asarray(train[\"height\"]).astype(np.float32)\n",
    "y = np.asarray(train[\"weight\"]).astype(np.float32)\n",
    "x_test = np.asarray(test[\"height\"]).astype(np.float32)\n",
    "y_test = np.asarray(test[\"weight\"]).astype(np.float32)\n",
    "\n",
    "model.fit(x, y, epochs=1000, verbose=0)"
   ]
  },
  {
   "cell_type": "code",
   "execution_count": 18,
   "metadata": {},
   "outputs": [
    {
     "name": "stdout",
     "output_type": "stream",
     "text": [
      "\u001b[1m4/4\u001b[0m \u001b[32m━━━━━━━━━━━━━━━━━━━━\u001b[0m\u001b[37m\u001b[0m \u001b[1m0s\u001b[0m 1ms/step \n"
     ]
    }
   ],
   "source": [
    "model_predict = model.predict(x_test)"
   ]
  },
  {
   "cell_type": "code",
   "execution_count": 19,
   "metadata": {},
   "outputs": [
    {
     "data": {
      "text/plain": [
       "<matplotlib.legend.Legend at 0x7ecba174de10>"
      ]
     },
     "execution_count": 19,
     "metadata": {},
     "output_type": "execute_result"
    },
    {
     "data": {
      "image/png": "[encoded data removed]",
      "text/plain": [
       "<Figure size 640x480 with 1 Axes>"
      ]
     },
     "metadata": {},
     "output_type": "display_data"
    }
   ],
   "source": [
    "# 5: диаграмма рассеивания\n",
    "ax = train.plot.scatter('height', 'weight', title='Диаграмма рассеивания', label='train')\n",
    "ax.scatter(test['height'], test['weight'], color='orange', label='test')\n",
    "ax.plot(x_test, y_hat_explicit_test, color='r', label='явная схема')\n",
    "ax.plot(x_test, model_predict, color=\"g\", label=\"нейросеть\")\n",
    "ax.legend()"
   ]
  },
  {
   "cell_type": "code",
   "execution_count": 20,
   "metadata": {},
   "outputs": [
    {
     "name": "stdout",
     "output_type": "stream",
     "text": [
      "\u001b[1m4/4\u001b[0m \u001b[32m━━━━━━━━━━━━━━━━━━━━\u001b[0m\u001b[37m\u001b[0m \u001b[1m0s\u001b[0m 2ms/step - loss: 4.2208 - r2_score: 0.8441  \n"
     ]
    },
    {
     "data": {
      "text/markdown": [
       "## R^2 явной схемы: 0.8697705142315317"
      ],
      "text/plain": [
       "<IPython.core.display.Markdown object>"
      ]
     },
     "metadata": {},
     "output_type": "display_data"
    },
    {
     "data": {
      "text/markdown": [
       "## R^2 нейросети: 0.8606078624725342 (- 0.009162651758997553)"
      ],
      "text/plain": [
       "<IPython.core.display.Markdown object>"
      ]
     },
     "metadata": {},
     "output_type": "display_data"
    },
    {
     "data": {
      "text/markdown": [
       "## -> явная схема лучше"
      ],
      "text/plain": [
       "<IPython.core.display.Markdown object>"
      ]
     },
     "metadata": {},
     "output_type": "display_data"
    }
   ],
   "source": [
    "x_test = np.asarray(test[\"height\"]).astype(np.float32)\n",
    "y_test = np.asarray(test[\"weight\"]).astype(np.float32)\n",
    "\n",
    "loss, r2_model = model.evaluate(x_test, y_test)\n",
    "disp(MD(f\"## R^2 явной схемы: {r2}\"))\n",
    "disp(MD(f\"## R^2 нейросети: {r2_model} (- {r2 - r2_model})\"))\n",
    "if r2 > r2_model:\n",
    "    disp(MD('## -> явная схема лучше'))\n",
    "else:\n",
    "    disp(MD('## -> нейросеть лучше'))"
   ]
  },
  {
   "cell_type": "code",
   "execution_count": 21,
   "metadata": {},
   "outputs": [
    {
     "data": {
      "text/plain": [
       "(25.441917756669504, array([27.231956], dtype=float32))"
      ]
     },
     "execution_count": 21,
     "metadata": {},
     "output_type": "execute_result"
    }
   ],
   "source": [
    "mean_sq_error_neural = sum([(lin - actual)**2 for lin, actual in zip(model_predict, y_test)]) / len(y_test)\n",
    "mean_sq_error, mean_sq_error_neural"
   ]
  },
  {
   "cell_type": "markdown",
   "metadata": {},
   "source": [
    "# 6: нормализация для многомерного анализа\n"
   ]
  },
  {
   "cell_type": "code",
   "execution_count": 22,
   "metadata": {
    "scrolled": false
   },
   "outputs": [
    {
     "data": {
      "text/plain": [
       "array(['age', 'height'], dtype='<U6')"
      ]
     },
     "metadata": {},
     "output_type": "display_data"
    },
    {
     "data": {
      "text/plain": [
       "array([[20.0, 154.89999389648438],\n",
       "       [21.0, 146.0500030517578],\n",
       "       [5.0, 101.5999984741211],\n",
       "       [25.0, 147.32000732421875],\n",
       "       [38.0, 147.32000732421875]], dtype=object)"
      ]
     },
     "metadata": {},
     "output_type": "display_data"
    }
   ],
   "source": [
    "## нормализация age и height через Tensorflow\n",
    "n = np.array([x for x in train if x != \"weight\"])\n",
    "features = np.array(train[n])\n",
    "disp(n)\n",
    "disp(features[:5])\n",
    "normalizer = tf.keras.layers.Normalization()\n",
    "normalizer.adapt(np.array(features))"
   ]
  },
  {
   "cell_type": "code",
   "execution_count": 23,
   "metadata": {
    "scrolled": true
   },
   "outputs": [
    {
     "name": "stdout",
     "output_type": "stream",
     "text": [
      "[[ 28.694832 136.51624 ]]\n",
      "[[447.5423 799.6701]]\n"
     ]
    }
   ],
   "source": [
    "print(normalizer.mean.numpy())\n",
    "print(normalizer.variance.numpy())"
   ]
  },
  {
   "cell_type": "code",
   "execution_count": 24,
   "metadata": {},
   "outputs": [
    {
     "data": {
      "text/plain": [
       "(-1.1462432e-09, 1.0)"
      ]
     },
     "execution_count": 24,
     "metadata": {},
     "output_type": "execute_result"
    }
   ],
   "source": [
    "## нормализация weight вручную\n",
    "y_train = np.array(train['weight'])\n",
    "y_train_norm = (y_train - y_train.mean()) / y_train.std()\n",
    "y_train_norm = y_train_norm.astype(np.float32)\n",
    "y_train_norm.mean(), y_train_norm.std()"
   ]
  },
  {
   "cell_type": "code",
   "execution_count": 25,
   "metadata": {},
   "outputs": [
    {
     "data": {
      "text/plain": [
       "(3.7252903e-09, 1.0)"
      ]
     },
     "execution_count": 25,
     "metadata": {},
     "output_type": "execute_result"
    }
   ],
   "source": [
    "y_test = np.array(test['weight'])\n",
    "y_test_norm = (y_test - y_test.mean()) / y_test.std()\n",
    "y_test_norm = y_test_norm.astype(np.float32)\n",
    "\n",
    "y_test_norm.mean(), y_test_norm.std()"
   ]
  },
  {
   "cell_type": "markdown",
   "metadata": {},
   "source": [
    "# 7: нейросети с нормализацией и регуляризацией\n"
   ]
  },
  {
   "cell_type": "code",
   "execution_count": 26,
   "metadata": {},
   "outputs": [
    {
     "data": {
      "text/html": [
       "<pre style=\"white-space:pre;overflow-x:auto;line-height:normal;font-family:Menlo,'DejaVu Sans Mono',consolas,'Courier New',monospace\"><span style=\"font-weight: bold\">Model: \"sequential_1\"</span>\n",
       "</pre>\n"
      ],
      "text/plain": [
       "\u001b[1mModel: \"sequential_1\"\u001b[0m\n"
      ]
     },
     "metadata": {},
     "output_type": "display_data"
    },
    {
     "data": {
      "text/html": [
       "<pre style=\"white-space:pre;overflow-x:auto;line-height:normal;font-family:Menlo,'DejaVu Sans Mono',consolas,'Courier New',monospace\">┏━━━━━━━━━━━━━━━━━━━━━━━━━━━━━━━━━┳━━━━━━━━━━━━━━━━━━━━━━━━┳━━━━━━━━━━━━━━━┓\n",
       "┃<span style=\"font-weight: bold\"> Layer (type)                    </span>┃<span style=\"font-weight: bold\"> Output Shape           </span>┃<span style=\"font-weight: bold\">       Param # </span>┃\n",
       "┡━━━━━━━━━━━━━━━━━━━━━━━━━━━━━━━━━╇━━━━━━━━━━━━━━━━━━━━━━━━╇━━━━━━━━━━━━━━━┩\n",
       "│ normalization (<span style=\"color: #0087ff; text-decoration-color: #0087ff\">Normalization</span>)   │ (<span style=\"color: #00d7ff; text-decoration-color: #00d7ff\">None</span>, <span style=\"color: #00af00; text-decoration-color: #00af00\">2</span>)              │             <span style=\"color: #00af00; text-decoration-color: #00af00\">5</span> │\n",
       "├─────────────────────────────────┼────────────────────────┼───────────────┤\n",
       "│ dense_1 (<span style=\"color: #0087ff; text-decoration-color: #0087ff\">Dense</span>)                 │ (<span style=\"color: #00d7ff; text-decoration-color: #00d7ff\">None</span>, <span style=\"color: #00af00; text-decoration-color: #00af00\">1</span>)              │             <span style=\"color: #00af00; text-decoration-color: #00af00\">3</span> │\n",
       "└─────────────────────────────────┴────────────────────────┴───────────────┘\n",
       "</pre>\n"
      ],
      "text/plain": [
       "┏━━━━━━━━━━━━━━━━━━━━━━━━━━━━━━━━━┳━━━━━━━━━━━━━━━━━━━━━━━━┳━━━━━━━━━━━━━━━┓\n",
       "┃\u001b[1m \u001b[0m\u001b[1mLayer (type)                   \u001b[0m\u001b[1m \u001b[0m┃\u001b[1m \u001b[0m\u001b[1mOutput Shape          \u001b[0m\u001b[1m \u001b[0m┃\u001b[1m \u001b[0m\u001b[1m      Param #\u001b[0m\u001b[1m \u001b[0m┃\n",
       "┡━━━━━━━━━━━━━━━━━━━━━━━━━━━━━━━━━╇━━━━━━━━━━━━━━━━━━━━━━━━╇━━━━━━━━━━━━━━━┩\n",
       "│ normalization (\u001b[38;5;33mNormalization\u001b[0m)   │ (\u001b[38;5;45mNone\u001b[0m, \u001b[38;5;34m2\u001b[0m)              │             \u001b[38;5;34m5\u001b[0m │\n",
       "├─────────────────────────────────┼────────────────────────┼───────────────┤\n",
       "│ dense_1 (\u001b[38;5;33mDense\u001b[0m)                 │ (\u001b[38;5;45mNone\u001b[0m, \u001b[38;5;34m1\u001b[0m)              │             \u001b[38;5;34m3\u001b[0m │\n",
       "└─────────────────────────────────┴────────────────────────┴───────────────┘\n"
      ]
     },
     "metadata": {},
     "output_type": "display_data"
    },
    {
     "data": {
      "text/html": [
       "<pre style=\"white-space:pre;overflow-x:auto;line-height:normal;font-family:Menlo,'DejaVu Sans Mono',consolas,'Courier New',monospace\"><span style=\"font-weight: bold\"> Total params: </span><span style=\"color: #00af00; text-decoration-color: #00af00\">8</span> (36.00 B)\n",
       "</pre>\n"
      ],
      "text/plain": [
       "\u001b[1m Total params: \u001b[0m\u001b[38;5;34m8\u001b[0m (36.00 B)\n"
      ]
     },
     "metadata": {},
     "output_type": "display_data"
    },
    {
     "data": {
      "text/html": [
       "<pre style=\"white-space:pre;overflow-x:auto;line-height:normal;font-family:Menlo,'DejaVu Sans Mono',consolas,'Courier New',monospace\"><span style=\"font-weight: bold\"> Trainable params: </span><span style=\"color: #00af00; text-decoration-color: #00af00\">3</span> (12.00 B)\n",
       "</pre>\n"
      ],
      "text/plain": [
       "\u001b[1m Trainable params: \u001b[0m\u001b[38;5;34m3\u001b[0m (12.00 B)\n"
      ]
     },
     "metadata": {},
     "output_type": "display_data"
    },
    {
     "data": {
      "text/html": [
       "<pre style=\"white-space:pre;overflow-x:auto;line-height:normal;font-family:Menlo,'DejaVu Sans Mono',consolas,'Courier New',monospace\"><span style=\"font-weight: bold\"> Non-trainable params: </span><span style=\"color: #00af00; text-decoration-color: #00af00\">5</span> (24.00 B)\n",
       "</pre>\n"
      ],
      "text/plain": [
       "\u001b[1m Non-trainable params: \u001b[0m\u001b[38;5;34m5\u001b[0m (24.00 B)\n"
      ]
     },
     "metadata": {},
     "output_type": "display_data"
    }
   ],
   "source": [
    "feature = np.array(train['height'])\n",
    "\n",
    "l0_model = tf.keras.Sequential([\n",
    "    tf.keras.layers.Input((2,)),\n",
    "    normalizer,\n",
    "    tf.keras.layers.Dense(units=1),\n",
    "])\n",
    "l0_model.summary()"
   ]
  },
  {
   "cell_type": "code",
   "execution_count": 27,
   "metadata": {},
   "outputs": [],
   "source": [
    "l0_model.compile(\n",
    "    loss=tf.keras.losses.MAE,\n",
    "    optimizer=tf.keras.optimizers.Adam(learning_rate=0.05),\n",
    "    metrics=[\"r2_score\"]\n",
    ")\n",
    "\n",
    "x_train = np.asarray(train[n]).astype(np.float32)\n",
    "x_test = np.asarray(test[n]).astype(np.float32)\n",
    "\n",
    "l0_hist = l0_model.fit(x_train, y_train_norm, epochs=1000, verbose=0, validation_split=0.2)"
   ]
  },
  {
   "cell_type": "code",
   "execution_count": 28,
   "metadata": {},
   "outputs": [],
   "source": [
    "test_results = {}\n",
    "\n",
    "test_results['linear'] = l0_model.evaluate(\n",
    "    np.asarray(x_test).astype(np.float32),\n",
    "    np.asarray(y_test_norm).astype(np.float32), verbose=0)"
   ]
  },
  {
   "cell_type": "code",
   "execution_count": 29,
   "metadata": {},
   "outputs": [],
   "source": [
    "# Модель с L1\n",
    "l1_model = tf.keras.Sequential([\n",
    "    tf.keras.layers.Input((2,)),\n",
    "    normalizer,\n",
    "    tf.keras.layers.Dense(units=1, kernel_regularizer=tf.keras.regularizers.L1(l1=0.01)),\n",
    "])\n",
    "\n",
    "l1_model.compile(\n",
    "    loss=tf.keras.losses.MAE,\n",
    "    optimizer=tf.keras.optimizers.Adam(learning_rate=0.05),\n",
    "    metrics=[\"r2_score\"]\n",
    ")\n",
    "\n",
    "l1_hist = l1_model.fit(x_train, y_train_norm, epochs=1000, verbose=0, validation_split=0.2)\n",
    "\n",
    "test_results['l1'] = l1_model.evaluate(\n",
    "    np.asarray(x_test).astype(np.float32),\n",
    "    np.asarray(y_test_norm).astype(np.float32), verbose=0)"
   ]
  },
  {
   "cell_type": "code",
   "execution_count": 30,
   "metadata": {},
   "outputs": [],
   "source": [
    "# Модель с L2\n",
    "l2_model = tf.keras.Sequential([\n",
    "    tf.keras.layers.Input((2,)),\n",
    "    normalizer,\n",
    "    tf.keras.layers.Dense(units=1, kernel_regularizer=tf.keras.regularizers.L2(l2=0.01)),\n",
    "])\n",
    "\n",
    "l2_model.compile(\n",
    "    loss=tf.keras.losses.MAE,\n",
    "    optimizer=tf.keras.optimizers.Adam(learning_rate=0.05),\n",
    "    metrics=[\"r2_score\"]\n",
    ")\n",
    "\n",
    "l2_hist = l2_model.fit(x_train, y_train_norm, epochs=1000, verbose=0, validation_split=0.2)\n",
    "\n",
    "test_results['l2'] = l2_model.evaluate(\n",
    "    np.asarray(x_test).astype(np.float32),\n",
    "    np.asarray(y_test_norm).astype(np.float32), verbose=0)"
   ]
  },
  {
   "cell_type": "code",
   "execution_count": 31,
   "metadata": {},
   "outputs": [
    {
     "data": {
      "text/plain": [
       "{'linear': [0.3771038055419922, 0.7928462028503418],\n",
       " 'l1': [0.37971916794776917, 0.7961306571960449],\n",
       " 'l2': [0.3755757212638855, 0.7939434051513672]}"
      ]
     },
     "execution_count": 31,
     "metadata": {},
     "output_type": "execute_result"
    }
   ],
   "source": [
    "test_results"
   ]
  },
  {
   "cell_type": "markdown",
   "metadata": {},
   "source": [
    "# 8 + 9: визуализация лучшей модели\n"
   ]
  },
  {
   "cell_type": "code",
   "execution_count": 37,
   "metadata": {},
   "outputs": [
    {
     "data": {
      "text/plain": [
       "{'linear': [0.3771038055419922, 0.7928462028503418],\n",
       " 'l1': [0.37971916794776917, 0.7961306571960449],\n",
       " 'l2': [0.3755757212638855, 0.7939434051513672]}"
      ]
     },
     "metadata": {},
     "output_type": "display_data"
    },
    {
     "data": {
      "text/markdown": [
       "## Лучший показатель у модели L1 R^2 = 0.7961306571960449"
      ],
      "text/plain": [
       "<IPython.core.display.Markdown object>"
      ]
     },
     "metadata": {},
     "output_type": "display_data"
    },
    {
     "ename": "TypeError",
     "evalue": "Axes3D.plot() missing 1 required positional argument: 'ys'",
     "output_type": "error",
     "traceback": [
      "\u001b[0;31m---------------------------------------------------------------------------\u001b[0m",
      "\u001b[0;31mTypeError\u001b[0m                                 Traceback (most recent call last)",
      "Cell \u001b[0;32mIn[37], line 21\u001b[0m\n\u001b[1;32m     19\u001b[0m best_model, best_hist \u001b[38;5;241m=\u001b[39m models[best_scoring_name]\n\u001b[1;32m     20\u001b[0m disp(MD(\u001b[38;5;124mf\u001b[39m\u001b[38;5;124m\"\u001b[39m\u001b[38;5;124m## Лучший показатель у модели \u001b[39m\u001b[38;5;132;01m{\u001b[39;00mbest_scoring_name\u001b[38;5;241m.\u001b[39mupper()\u001b[38;5;132;01m}\u001b[39;00m\u001b[38;5;124m R^2 = \u001b[39m\u001b[38;5;132;01m{\u001b[39;00mtest_results[best_scoring_name][\u001b[38;5;241m1\u001b[39m]\u001b[38;5;132;01m}\u001b[39;00m\u001b[38;5;124m\"\u001b[39m))\n\u001b[0;32m---> 21\u001b[0m \u001b[43mplot_loss\u001b[49m\u001b[43m(\u001b[49m\u001b[43mbest_hist\u001b[49m\u001b[43m)\u001b[49m\n",
      "Cell \u001b[0;32mIn[37], line 8\u001b[0m, in \u001b[0;36mplot_loss\u001b[0;34m(history)\u001b[0m\n\u001b[1;32m      7\u001b[0m \u001b[38;5;28;01mdef\u001b[39;00m \u001b[38;5;21mplot_loss\u001b[39m(history):\n\u001b[0;32m----> 8\u001b[0m   \u001b[43mplt\u001b[49m\u001b[38;5;241;43m.\u001b[39;49m\u001b[43mplot\u001b[49m\u001b[43m(\u001b[49m\u001b[43mhistory\u001b[49m\u001b[38;5;241;43m.\u001b[39;49m\u001b[43mhistory\u001b[49m\u001b[43m[\u001b[49m\u001b[38;5;124;43m'\u001b[39;49m\u001b[38;5;124;43mloss\u001b[39;49m\u001b[38;5;124;43m'\u001b[39;49m\u001b[43m]\u001b[49m\u001b[43m,\u001b[49m\u001b[43m \u001b[49m\u001b[43mlabel\u001b[49m\u001b[38;5;241;43m=\u001b[39;49m\u001b[38;5;124;43m'\u001b[39;49m\u001b[38;5;124;43mloss\u001b[39;49m\u001b[38;5;124;43m'\u001b[39;49m\u001b[43m)\u001b[49m\n\u001b[1;32m      9\u001b[0m   plt\u001b[38;5;241m.\u001b[39mplot(history\u001b[38;5;241m.\u001b[39mhistory[\u001b[38;5;124m'\u001b[39m\u001b[38;5;124mval_loss\u001b[39m\u001b[38;5;124m'\u001b[39m], label\u001b[38;5;241m=\u001b[39m\u001b[38;5;124m'\u001b[39m\u001b[38;5;124mval_loss\u001b[39m\u001b[38;5;124m'\u001b[39m)\n\u001b[1;32m     10\u001b[0m   plt\u001b[38;5;241m.\u001b[39mylim([\u001b[38;5;241m0\u001b[39m, \u001b[38;5;28mmax\u001b[39m(history\u001b[38;5;241m.\u001b[39mhistory[\u001b[38;5;124m'\u001b[39m\u001b[38;5;124mloss\u001b[39m\u001b[38;5;124m'\u001b[39m])\u001b[38;5;241m*\u001b[39m\u001b[38;5;241m1.15\u001b[39m])\n",
      "File \u001b[0;32m/usr/lib/python3.11/site-packages/matplotlib/pyplot.py:3590\u001b[0m, in \u001b[0;36mplot\u001b[0;34m(scalex, scaley, data, *args, **kwargs)\u001b[0m\n\u001b[1;32m   3582\u001b[0m \u001b[38;5;129m@_copy_docstring_and_deprecators\u001b[39m(Axes\u001b[38;5;241m.\u001b[39mplot)\n\u001b[1;32m   3583\u001b[0m \u001b[38;5;28;01mdef\u001b[39;00m \u001b[38;5;21mplot\u001b[39m(\n\u001b[1;32m   3584\u001b[0m     \u001b[38;5;241m*\u001b[39margs: \u001b[38;5;28mfloat\u001b[39m \u001b[38;5;241m|\u001b[39m ArrayLike \u001b[38;5;241m|\u001b[39m \u001b[38;5;28mstr\u001b[39m,\n\u001b[0;32m   (...)\u001b[0m\n\u001b[1;32m   3588\u001b[0m     \u001b[38;5;241m*\u001b[39m\u001b[38;5;241m*\u001b[39mkwargs,\n\u001b[1;32m   3589\u001b[0m ) \u001b[38;5;241m-\u001b[39m\u001b[38;5;241m>\u001b[39m \u001b[38;5;28mlist\u001b[39m[Line2D]:\n\u001b[0;32m-> 3590\u001b[0m     \u001b[38;5;28;01mreturn\u001b[39;00m \u001b[43mgca\u001b[49m\u001b[43m(\u001b[49m\u001b[43m)\u001b[49m\u001b[38;5;241;43m.\u001b[39;49m\u001b[43mplot\u001b[49m\u001b[43m(\u001b[49m\n\u001b[1;32m   3591\u001b[0m \u001b[43m        \u001b[49m\u001b[38;5;241;43m*\u001b[39;49m\u001b[43margs\u001b[49m\u001b[43m,\u001b[49m\n\u001b[1;32m   3592\u001b[0m \u001b[43m        \u001b[49m\u001b[43mscalex\u001b[49m\u001b[38;5;241;43m=\u001b[39;49m\u001b[43mscalex\u001b[49m\u001b[43m,\u001b[49m\n\u001b[1;32m   3593\u001b[0m \u001b[43m        \u001b[49m\u001b[43mscaley\u001b[49m\u001b[38;5;241;43m=\u001b[39;49m\u001b[43mscaley\u001b[49m\u001b[43m,\u001b[49m\n\u001b[1;32m   3594\u001b[0m \u001b[43m        \u001b[49m\u001b[38;5;241;43m*\u001b[39;49m\u001b[38;5;241;43m*\u001b[39;49m\u001b[43m(\u001b[49m\u001b[43m{\u001b[49m\u001b[38;5;124;43m\"\u001b[39;49m\u001b[38;5;124;43mdata\u001b[39;49m\u001b[38;5;124;43m\"\u001b[39;49m\u001b[43m:\u001b[49m\u001b[43m \u001b[49m\u001b[43mdata\u001b[49m\u001b[43m}\u001b[49m\u001b[43m \u001b[49m\u001b[38;5;28;43;01mif\u001b[39;49;00m\u001b[43m \u001b[49m\u001b[43mdata\u001b[49m\u001b[43m \u001b[49m\u001b[38;5;129;43;01mis\u001b[39;49;00m\u001b[43m \u001b[49m\u001b[38;5;129;43;01mnot\u001b[39;49;00m\u001b[43m \u001b[49m\u001b[38;5;28;43;01mNone\u001b[39;49;00m\u001b[43m \u001b[49m\u001b[38;5;28;43;01melse\u001b[39;49;00m\u001b[43m \u001b[49m\u001b[43m{\u001b[49m\u001b[43m}\u001b[49m\u001b[43m)\u001b[49m\u001b[43m,\u001b[49m\n\u001b[1;32m   3595\u001b[0m \u001b[43m        \u001b[49m\u001b[38;5;241;43m*\u001b[39;49m\u001b[38;5;241;43m*\u001b[39;49m\u001b[43mkwargs\u001b[49m\u001b[43m,\u001b[49m\n\u001b[1;32m   3596\u001b[0m \u001b[43m    \u001b[49m\u001b[43m)\u001b[49m\n",
      "\u001b[0;31mTypeError\u001b[0m: Axes3D.plot() missing 1 required positional argument: 'ys'"
     ]
    }
   ],
   "source": [
    "models = {\n",
    "    'linear': [l0_model, l0_hist],\n",
    "    'l1': [l1_model, l1_hist],\n",
    "    'l2': [l2_model, l2_hist]\n",
    "}\n",
    "\n",
    "def plot_loss(history):\n",
    "  plt.plot(history.history['loss'], label='loss')\n",
    "  plt.plot(history.history['val_loss'], label='val_loss')\n",
    "  plt.ylim([0, max(history.history['loss'])*1.15])\n",
    "  plt.xlabel('Эпохи обучения')\n",
    "  plt.ylabel('Ошибка')\n",
    "  plt.legend()\n",
    "  plt.grid(True)\n",
    "\n",
    "disp(test_results)\n",
    "\n",
    "best_scoring_name = max(list(test_results), key=lambda x: test_results[x][1])\n",
    "best_model, best_hist = models[best_scoring_name]\n",
    "disp(MD(f\"## Лучший показатель у модели {best_scoring_name.upper()} R^2 = {test_results[best_scoring_name][1]}\"))\n",
    "plot_loss(best_hist)"
   ]
  },
  {
   "cell_type": "markdown",
   "metadata": {},
   "source": [
    "# 10: визуализация модели"
   ]
  },
  {
   "cell_type": "code",
   "execution_count": 86,
   "metadata": {},
   "outputs": [
    {
     "data": {
      "application/javascript": [
       "/* Put everything inside the global mpl namespace */\n",
       "/* global mpl */\n",
       "window.mpl = {};\n",
       "\n",
       "mpl.get_websocket_type = function () {\n",
       "    if (typeof WebSocket !== 'undefined') {\n",
       "        return WebSocket;\n",
       "    } else if (typeof MozWebSocket !== 'undefined') {\n",
       "        return MozWebSocket;\n",
       "    } else {\n",
       "        alert(\n",
       "            'Your browser does not have WebSocket support. ' +\n",
       "                'Please try Chrome, Safari or Firefox ≥ 6. ' +\n",
       "                'Firefox 4 and 5 are also supported but you ' +\n",
       "                'have to enable WebSockets in about:config.'\n",
       "        );\n",
       "    }\n",
       "};\n",
       "\n",
       "mpl.figure = function (figure_id, websocket, ondownload, parent_element) {\n",
       "    this.id = figure_id;\n",
       "\n",
       "    this.ws = websocket;\n",
       "\n",
       "    this.supports_binary = this.ws.binaryType !== undefined;\n",
       "\n",
       "    if (!this.supports_binary) {\n",
       "        var warnings = document.getElementById('mpl-warnings');\n",
       "        if (warnings) {\n",
       "            warnings.style.display = 'block';\n",
       "            warnings.textContent =\n",
       "                'This browser does not support binary websocket messages. ' +\n",
       "                'Performance may be slow.';\n",
       "        }\n",
       "    }\n",
       "\n",
       "    this.imageObj = new Image();\n",
       "\n",
       "    this.context = undefined;\n",
       "    this.message = undefined;\n",
       "    this.canvas = undefined;\n",
       "    this.rubberband_canvas = undefined;\n",
       "    this.rubberband_context = undefined;\n",
       "    this.format_dropdown = undefined;\n",
       "\n",
       "    this.image_mode = 'full';\n",
       "\n",
       "    this.root = document.createElement('div');\n",
       "    this.root.setAttribute('style', 'display: inline-block');\n",
       "    this._root_extra_style(this.root);\n",
       "\n",
       "    parent_element.appendChild(this.root);\n",
       "\n",
       "    this._init_header(this);\n",
       "    this._init_canvas(this);\n",
       "    this._init_toolbar(this);\n",
       "\n",
       "    var fig = this;\n",
       "\n",
       "    this.waiting = false;\n",
       "\n",
       "    this.ws.onopen = function () {\n",
       "        fig.send_message('supports_binary', { value: fig.supports_binary });\n",
       "        fig.send_message('send_image_mode', {});\n",
       "        if (fig.ratio !== 1) {\n",
       "            fig.send_message('set_device_pixel_ratio', {\n",
       "                device_pixel_ratio: fig.ratio,\n",
       "            });\n",
       "        }\n",
       "        fig.send_message('refresh', {});\n",
       "    };\n",
       "\n",
       "    this.imageObj.onload = function () {\n",
       "        if (fig.image_mode === 'full') {\n",
       "            // Full images could contain transparency (where diff images\n",
       "            // almost always do), so we need to clear the canvas so that\n",
       "            // there is no ghosting.\n",
       "            fig.context.clearRect(0, 0, fig.canvas.width, fig.canvas.height);\n",
       "        }\n",
       "        fig.context.drawImage(fig.imageObj, 0, 0);\n",
       "    };\n",
       "\n",
       "    this.imageObj.onunload = function () {\n",
       "        fig.ws.close();\n",
       "    };\n",
       "\n",
       "    this.ws.onmessage = this._make_on_message_function(this);\n",
       "\n",
       "    this.ondownload = ondownload;\n",
       "};\n",
       "\n",
       "mpl.figure.prototype._init_header = function () {\n",
       "    var titlebar = document.createElement('div');\n",
       "    titlebar.classList =\n",
       "        'ui-dialog-titlebar ui-widget-header ui-corner-all ui-helper-clearfix';\n",
       "    var titletext = document.createElement('div');\n",
       "    titletext.classList = 'ui-dialog-title';\n",
       "    titletext.setAttribute(\n",
       "        'style',\n",
       "        'width: 100%; text-align: center; padding: 3px;'\n",
       "    );\n",
       "    titlebar.appendChild(titletext);\n",
       "    this.root.appendChild(titlebar);\n",
       "    this.header = titletext;\n",
       "};\n",
       "\n",
       "mpl.figure.prototype._canvas_extra_style = function (_canvas_div) {};\n",
       "\n",
       "mpl.figure.prototype._root_extra_style = function (_canvas_div) {};\n",
       "\n",
       "mpl.figure.prototype._init_canvas = function () {\n",
       "    var fig = this;\n",
       "\n",
       "    var canvas_div = (this.canvas_div = document.createElement('div'));\n",
       "    canvas_div.setAttribute('tabindex', '0');\n",
       "    canvas_div.setAttribute(\n",
       "        'style',\n",
       "        'border: 1px solid #ddd;' +\n",
       "            'box-sizing: content-box;' +\n",
       "            'clear: both;' +\n",
       "            'min-height: 1px;' +\n",
       "            'min-width: 1px;' +\n",
       "            'outline: 0;' +\n",
       "            'overflow: hidden;' +\n",
       "            'position: relative;' +\n",
       "            'resize: both;' +\n",
       "            'z-index: 2;'\n",
       "    );\n",
       "\n",
       "    function on_keyboard_event_closure(name) {\n",
       "        return function (event) {\n",
       "            return fig.key_event(event, name);\n",
       "        };\n",
       "    }\n",
       "\n",
       "    canvas_div.addEventListener(\n",
       "        'keydown',\n",
       "        on_keyboard_event_closure('key_press')\n",
       "    );\n",
       "    canvas_div.addEventListener(\n",
       "        'keyup',\n",
       "        on_keyboard_event_closure('key_release')\n",
       "    );\n",
       "\n",
       "    this._canvas_extra_style(canvas_div);\n",
       "    this.root.appendChild(canvas_div);\n",
       "\n",
       "    var canvas = (this.canvas = document.createElement('canvas'));\n",
       "    canvas.classList.add('mpl-canvas');\n",
       "    canvas.setAttribute(\n",
       "        'style',\n",
       "        'box-sizing: content-box;' +\n",
       "            'pointer-events: none;' +\n",
       "            'position: relative;' +\n",
       "            'z-index: 0;'\n",
       "    );\n",
       "\n",
       "    this.context = canvas.getContext('2d');\n",
       "\n",
       "    var backingStore =\n",
       "        this.context.backingStorePixelRatio ||\n",
       "        this.context.webkitBackingStorePixelRatio ||\n",
       "        this.context.mozBackingStorePixelRatio ||\n",
       "        this.context.msBackingStorePixelRatio ||\n",
       "        this.context.oBackingStorePixelRatio ||\n",
       "        this.context.backingStorePixelRatio ||\n",
       "        1;\n",
       "\n",
       "    this.ratio = (window.devicePixelRatio || 1) / backingStore;\n",
       "\n",
       "    var rubberband_canvas = (this.rubberband_canvas = document.createElement(\n",
       "        'canvas'\n",
       "    ));\n",
       "    rubberband_canvas.setAttribute(\n",
       "        'style',\n",
       "        'box-sizing: content-box;' +\n",
       "            'left: 0;' +\n",
       "            'pointer-events: none;' +\n",
       "            'position: absolute;' +\n",
       "            'top: 0;' +\n",
       "            'z-index: 1;'\n",
       "    );\n",
       "\n",
       "    // Apply a ponyfill if ResizeObserver is not implemented by browser.\n",
       "    if (this.ResizeObserver === undefined) {\n",
       "        if (window.ResizeObserver !== undefined) {\n",
       "            this.ResizeObserver = window.ResizeObserver;\n",
       "        } else {\n",
       "            var obs = _JSXTOOLS_RESIZE_OBSERVER({});\n",
       "            this.ResizeObserver = obs.ResizeObserver;\n",
       "        }\n",
       "    }\n",
       "\n",
       "    this.resizeObserverInstance = new this.ResizeObserver(function (entries) {\n",
       "        var nentries = entries.length;\n",
       "        for (var i = 0; i < nentries; i++) {\n",
       "            var entry = entries[i];\n",
       "            var width, height;\n",
       "            if (entry.contentBoxSize) {\n",
       "                if (entry.contentBoxSize instanceof Array) {\n",
       "                    // Chrome 84 implements new version of spec.\n",
       "                    width = entry.contentBoxSize[0].inlineSize;\n",
       "                    height = entry.contentBoxSize[0].blockSize;\n",
       "                } else {\n",
       "                    // Firefox implements old version of spec.\n",
       "                    width = entry.contentBoxSize.inlineSize;\n",
       "                    height = entry.contentBoxSize.blockSize;\n",
       "                }\n",
       "            } else {\n",
       "                // Chrome <84 implements even older version of spec.\n",
       "                width = entry.contentRect.width;\n",
       "                height = entry.contentRect.height;\n",
       "            }\n",
       "\n",
       "            // Keep the size of the canvas and rubber band canvas in sync with\n",
       "            // the canvas container.\n",
       "            if (entry.devicePixelContentBoxSize) {\n",
       "                // Chrome 84 implements new version of spec.\n",
       "                canvas.setAttribute(\n",
       "                    'width',\n",
       "                    entry.devicePixelContentBoxSize[0].inlineSize\n",
       "                );\n",
       "                canvas.setAttribute(\n",
       "                    'height',\n",
       "                    entry.devicePixelContentBoxSize[0].blockSize\n",
       "                );\n",
       "            } else {\n",
       "                canvas.setAttribute('width', width * fig.ratio);\n",
       "                canvas.setAttribute('height', height * fig.ratio);\n",
       "            }\n",
       "            /* This rescales the canvas back to display pixels, so that it\n",
       "             * appears correct on HiDPI screens. */\n",
       "            canvas.style.width = width + 'px';\n",
       "            canvas.style.height = height + 'px';\n",
       "\n",
       "            rubberband_canvas.setAttribute('width', width);\n",
       "            rubberband_canvas.setAttribute('height', height);\n",
       "\n",
       "            // And update the size in Python. We ignore the initial 0/0 size\n",
       "            // that occurs as the element is placed into the DOM, which should\n",
       "            // otherwise not happen due to the minimum size styling.\n",
       "            if (fig.ws.readyState == 1 && width != 0 && height != 0) {\n",
       "                fig.request_resize(width, height);\n",
       "            }\n",
       "        }\n",
       "    });\n",
       "    this.resizeObserverInstance.observe(canvas_div);\n",
       "\n",
       "    function on_mouse_event_closure(name) {\n",
       "        /* User Agent sniffing is bad, but WebKit is busted:\n",
       "         * https://bugs.webkit.org/show_bug.cgi?id=144526\n",
       "         * https://bugs.webkit.org/show_bug.cgi?id=181818\n",
       "         * The worst that happens here is that they get an extra browser\n",
       "         * selection when dragging, if this check fails to catch them.\n",
       "         */\n",
       "        var UA = navigator.userAgent;\n",
       "        var isWebKit = /AppleWebKit/.test(UA) && !/Chrome/.test(UA);\n",
       "        if(isWebKit) {\n",
       "            return function (event) {\n",
       "                /* This prevents the web browser from automatically changing to\n",
       "                 * the text insertion cursor when the button is pressed. We\n",
       "                 * want to control all of the cursor setting manually through\n",
       "                 * the 'cursor' event from matplotlib */\n",
       "                event.preventDefault()\n",
       "                return fig.mouse_event(event, name);\n",
       "            };\n",
       "        } else {\n",
       "            return function (event) {\n",
       "                return fig.mouse_event(event, name);\n",
       "            };\n",
       "        }\n",
       "    }\n",
       "\n",
       "    canvas_div.addEventListener(\n",
       "        'mousedown',\n",
       "        on_mouse_event_closure('button_press')\n",
       "    );\n",
       "    canvas_div.addEventListener(\n",
       "        'mouseup',\n",
       "        on_mouse_event_closure('button_release')\n",
       "    );\n",
       "    canvas_div.addEventListener(\n",
       "        'dblclick',\n",
       "        on_mouse_event_closure('dblclick')\n",
       "    );\n",
       "    // Throttle sequential mouse events to 1 every 20ms.\n",
       "    canvas_div.addEventListener(\n",
       "        'mousemove',\n",
       "        on_mouse_event_closure('motion_notify')\n",
       "    );\n",
       "\n",
       "    canvas_div.addEventListener(\n",
       "        'mouseenter',\n",
       "        on_mouse_event_closure('figure_enter')\n",
       "    );\n",
       "    canvas_div.addEventListener(\n",
       "        'mouseleave',\n",
       "        on_mouse_event_closure('figure_leave')\n",
       "    );\n",
       "\n",
       "    canvas_div.addEventListener('wheel', function (event) {\n",
       "        if (event.deltaY < 0) {\n",
       "            event.step = 1;\n",
       "        } else {\n",
       "            event.step = -1;\n",
       "        }\n",
       "        on_mouse_event_closure('scroll')(event);\n",
       "    });\n",
       "\n",
       "    canvas_div.appendChild(canvas);\n",
       "    canvas_div.appendChild(rubberband_canvas);\n",
       "\n",
       "    this.rubberband_context = rubberband_canvas.getContext('2d');\n",
       "    this.rubberband_context.strokeStyle = '#000000';\n",
       "\n",
       "    this._resize_canvas = function (width, height, forward) {\n",
       "        if (forward) {\n",
       "            canvas_div.style.width = width + 'px';\n",
       "            canvas_div.style.height = height + 'px';\n",
       "        }\n",
       "    };\n",
       "\n",
       "    // Disable right mouse context menu.\n",
       "    canvas_div.addEventListener('contextmenu', function (_e) {\n",
       "        event.preventDefault();\n",
       "        return false;\n",
       "    });\n",
       "\n",
       "    function set_focus() {\n",
       "        canvas.focus();\n",
       "        canvas_div.focus();\n",
       "    }\n",
       "\n",
       "    window.setTimeout(set_focus, 100);\n",
       "};\n",
       "\n",
       "mpl.figure.prototype._init_toolbar = function () {\n",
       "    var fig = this;\n",
       "\n",
       "    var toolbar = document.createElement('div');\n",
       "    toolbar.classList = 'mpl-toolbar';\n",
       "    this.root.appendChild(toolbar);\n",
       "\n",
       "    function on_click_closure(name) {\n",
       "        return function (_event) {\n",
       "            return fig.toolbar_button_onclick(name);\n",
       "        };\n",
       "    }\n",
       "\n",
       "    function on_mouseover_closure(tooltip) {\n",
       "        return function (event) {\n",
       "            if (!event.currentTarget.disabled) {\n",
       "                return fig.toolbar_button_onmouseover(tooltip);\n",
       "            }\n",
       "        };\n",
       "    }\n",
       "\n",
       "    fig.buttons = {};\n",
       "    var buttonGroup = document.createElement('div');\n",
       "    buttonGroup.classList = 'mpl-button-group';\n",
       "    for (var toolbar_ind in mpl.toolbar_items) {\n",
       "        var name = mpl.toolbar_items[toolbar_ind][0];\n",
       "        var tooltip = mpl.toolbar_items[toolbar_ind][1];\n",
       "        var image = mpl.toolbar_items[toolbar_ind][2];\n",
       "        var method_name = mpl.toolbar_items[toolbar_ind][3];\n",
       "\n",
       "        if (!name) {\n",
       "            /* Instead of a spacer, we start a new button group. */\n",
       "            if (buttonGroup.hasChildNodes()) {\n",
       "                toolbar.appendChild(buttonGroup);\n",
       "            }\n",
       "            buttonGroup = document.createElement('div');\n",
       "            buttonGroup.classList = 'mpl-button-group';\n",
       "            continue;\n",
       "        }\n",
       "\n",
       "        var button = (fig.buttons[name] = document.createElement('button'));\n",
       "        button.classList = 'mpl-widget';\n",
       "        button.setAttribute('role', 'button');\n",
       "        button.setAttribute('aria-disabled', 'false');\n",
       "        button.addEventListener('click', on_click_closure(method_name));\n",
       "        button.addEventListener('mouseover', on_mouseover_closure(tooltip));\n",
       "\n",
       "        var icon_img = document.createElement('img');\n",
       "        icon_img.src = '_images/' + image + '.png';\n",
       "        icon_img.srcset = '_images/' + image + '_large.png 2x';\n",
       "        icon_img.alt = tooltip;\n",
       "        button.appendChild(icon_img);\n",
       "\n",
       "        buttonGroup.appendChild(button);\n",
       "    }\n",
       "\n",
       "    if (buttonGroup.hasChildNodes()) {\n",
       "        toolbar.appendChild(buttonGroup);\n",
       "    }\n",
       "\n",
       "    var fmt_picker = document.createElement('select');\n",
       "    fmt_picker.classList = 'mpl-widget';\n",
       "    toolbar.appendChild(fmt_picker);\n",
       "    this.format_dropdown = fmt_picker;\n",
       "\n",
       "    for (var ind in mpl.extensions) {\n",
       "        var fmt = mpl.extensions[ind];\n",
       "        var option = document.createElement('option');\n",
       "        option.selected = fmt === mpl.default_extension;\n",
       "        option.innerHTML = fmt;\n",
       "        fmt_picker.appendChild(option);\n",
       "    }\n",
       "\n",
       "    var status_bar = document.createElement('span');\n",
       "    status_bar.classList = 'mpl-message';\n",
       "    toolbar.appendChild(status_bar);\n",
       "    this.message = status_bar;\n",
       "};\n",
       "\n",
       "mpl.figure.prototype.request_resize = function (x_pixels, y_pixels) {\n",
       "    // Request matplotlib to resize the figure. Matplotlib will then trigger a resize in the client,\n",
       "    // which will in turn request a refresh of the image.\n",
       "    this.send_message('resize', { width: x_pixels, height: y_pixels });\n",
       "};\n",
       "\n",
       "mpl.figure.prototype.send_message = function (type, properties) {\n",
       "    properties['type'] = type;\n",
       "    properties['figure_id'] = this.id;\n",
       "    this.ws.send(JSON.stringify(properties));\n",
       "};\n",
       "\n",
       "mpl.figure.prototype.send_draw_message = function () {\n",
       "    if (!this.waiting) {\n",
       "        this.waiting = true;\n",
       "        this.ws.send(JSON.stringify({ type: 'draw', figure_id: this.id }));\n",
       "    }\n",
       "};\n",
       "\n",
       "mpl.figure.prototype.handle_save = function (fig, _msg) {\n",
       "    var format_dropdown = fig.format_dropdown;\n",
       "    var format = format_dropdown.options[format_dropdown.selectedIndex].value;\n",
       "    fig.ondownload(fig, format);\n",
       "};\n",
       "\n",
       "mpl.figure.prototype.handle_resize = function (fig, msg) {\n",
       "    var size = msg['size'];\n",
       "    if (size[0] !== fig.canvas.width || size[1] !== fig.canvas.height) {\n",
       "        fig._resize_canvas(size[0], size[1], msg['forward']);\n",
       "        fig.send_message('refresh', {});\n",
       "    }\n",
       "};\n",
       "\n",
       "mpl.figure.prototype.handle_rubberband = function (fig, msg) {\n",
       "    var x0 = msg['x0'] / fig.ratio;\n",
       "    var y0 = (fig.canvas.height - msg['y0']) / fig.ratio;\n",
       "    var x1 = msg['x1'] / fig.ratio;\n",
       "    var y1 = (fig.canvas.height - msg['y1']) / fig.ratio;\n",
       "    x0 = Math.floor(x0) + 0.5;\n",
       "    y0 = Math.floor(y0) + 0.5;\n",
       "    x1 = Math.floor(x1) + 0.5;\n",
       "    y1 = Math.floor(y1) + 0.5;\n",
       "    var min_x = Math.min(x0, x1);\n",
       "    var min_y = Math.min(y0, y1);\n",
       "    var width = Math.abs(x1 - x0);\n",
       "    var height = Math.abs(y1 - y0);\n",
       "\n",
       "    fig.rubberband_context.clearRect(\n",
       "        0,\n",
       "        0,\n",
       "        fig.canvas.width / fig.ratio,\n",
       "        fig.canvas.height / fig.ratio\n",
       "    );\n",
       "\n",
       "    fig.rubberband_context.strokeRect(min_x, min_y, width, height);\n",
       "};\n",
       "\n",
       "mpl.figure.prototype.handle_figure_label = function (fig, msg) {\n",
       "    // Updates the figure title.\n",
       "    fig.header.textContent = msg['label'];\n",
       "};\n",
       "\n",
       "mpl.figure.prototype.handle_cursor = function (fig, msg) {\n",
       "    fig.canvas_div.style.cursor = msg['cursor'];\n",
       "};\n",
       "\n",
       "mpl.figure.prototype.handle_message = function (fig, msg) {\n",
       "    fig.message.textContent = msg['message'];\n",
       "};\n",
       "\n",
       "mpl.figure.prototype.handle_draw = function (fig, _msg) {\n",
       "    // Request the server to send over a new figure.\n",
       "    fig.send_draw_message();\n",
       "};\n",
       "\n",
       "mpl.figure.prototype.handle_image_mode = function (fig, msg) {\n",
       "    fig.image_mode = msg['mode'];\n",
       "};\n",
       "\n",
       "mpl.figure.prototype.handle_history_buttons = function (fig, msg) {\n",
       "    for (var key in msg) {\n",
       "        if (!(key in fig.buttons)) {\n",
       "            continue;\n",
       "        }\n",
       "        fig.buttons[key].disabled = !msg[key];\n",
       "        fig.buttons[key].setAttribute('aria-disabled', !msg[key]);\n",
       "    }\n",
       "};\n",
       "\n",
       "mpl.figure.prototype.handle_navigate_mode = function (fig, msg) {\n",
       "    if (msg['mode'] === 'PAN') {\n",
       "        fig.buttons['Pan'].classList.add('active');\n",
       "        fig.buttons['Zoom'].classList.remove('active');\n",
       "    } else if (msg['mode'] === 'ZOOM') {\n",
       "        fig.buttons['Pan'].classList.remove('active');\n",
       "        fig.buttons['Zoom'].classList.add('active');\n",
       "    } else {\n",
       "        fig.buttons['Pan'].classList.remove('active');\n",
       "        fig.buttons['Zoom'].classList.remove('active');\n",
       "    }\n",
       "};\n",
       "\n",
       "mpl.figure.prototype.updated_canvas_event = function () {\n",
       "    // Called whenever the canvas gets updated.\n",
       "    this.send_message('ack', {});\n",
       "};\n",
       "\n",
       "// A function to construct a web socket function for onmessage handling.\n",
       "// Called in the figure constructor.\n",
       "mpl.figure.prototype._make_on_message_function = function (fig) {\n",
       "    return function socket_on_message(evt) {\n",
       "        if (evt.data instanceof Blob) {\n",
       "            var img = evt.data;\n",
       "            if (img.type !== 'image/png') {\n",
       "                /* FIXME: We get \"Resource interpreted as Image but\n",
       "                 * transferred with MIME type text/plain:\" errors on\n",
       "                 * Chrome.  But how to set the MIME type?  It doesn't seem\n",
       "                 * to be part of the websocket stream */\n",
       "                img.type = 'image/png';\n",
       "            }\n",
       "\n",
       "            /* Free the memory for the previous frames */\n",
       "            if (fig.imageObj.src) {\n",
       "                (window.URL || window.webkitURL).revokeObjectURL(\n",
       "                    fig.imageObj.src\n",
       "                );\n",
       "            }\n",
       "\n",
       "            fig.imageObj.src = (window.URL || window.webkitURL).createObjectURL(\n",
       "                img\n",
       "            );\n",
       "            fig.updated_canvas_event();\n",
       "            fig.waiting = false;\n",
       "            return;\n",
       "        } else if (\n",
       "            typeof evt.data === 'string' &&\n",
       "            evt.data.slice(0, 21) === 'data:image/png;base64'\n",
       "        ) {\n",
       "            fig.imageObj.src = evt.data;\n",
       "            fig.updated_canvas_event();\n",
       "            fig.waiting = false;\n",
       "            return;\n",
       "        }\n",
       "\n",
       "        var msg = JSON.parse(evt.data);\n",
       "        var msg_type = msg['type'];\n",
       "\n",
       "        // Call the  \"handle_{type}\" callback, which takes\n",
       "        // the figure and JSON message as its only arguments.\n",
       "        try {\n",
       "            var callback = fig['handle_' + msg_type];\n",
       "        } catch (e) {\n",
       "            console.log(\n",
       "                \"No handler for the '\" + msg_type + \"' message type: \",\n",
       "                msg\n",
       "            );\n",
       "            return;\n",
       "        }\n",
       "\n",
       "        if (callback) {\n",
       "            try {\n",
       "                // console.log(\"Handling '\" + msg_type + \"' message: \", msg);\n",
       "                callback(fig, msg);\n",
       "            } catch (e) {\n",
       "                console.log(\n",
       "                    \"Exception inside the 'handler_\" + msg_type + \"' callback:\",\n",
       "                    e,\n",
       "                    e.stack,\n",
       "                    msg\n",
       "                );\n",
       "            }\n",
       "        }\n",
       "    };\n",
       "};\n",
       "\n",
       "function getModifiers(event) {\n",
       "    var mods = [];\n",
       "    if (event.ctrlKey) {\n",
       "        mods.push('ctrl');\n",
       "    }\n",
       "    if (event.altKey) {\n",
       "        mods.push('alt');\n",
       "    }\n",
       "    if (event.shiftKey) {\n",
       "        mods.push('shift');\n",
       "    }\n",
       "    if (event.metaKey) {\n",
       "        mods.push('meta');\n",
       "    }\n",
       "    return mods;\n",
       "}\n",
       "\n",
       "/*\n",
       " * return a copy of an object with only non-object keys\n",
       " * we need this to avoid circular references\n",
       " * https://stackoverflow.com/a/24161582/3208463\n",
       " */\n",
       "function simpleKeys(original) {\n",
       "    return Object.keys(original).reduce(function (obj, key) {\n",
       "        if (typeof original[key] !== 'object') {\n",
       "            obj[key] = original[key];\n",
       "        }\n",
       "        return obj;\n",
       "    }, {});\n",
       "}\n",
       "\n",
       "mpl.figure.prototype.mouse_event = function (event, name) {\n",
       "    if (name === 'button_press') {\n",
       "        this.canvas.focus();\n",
       "        this.canvas_div.focus();\n",
       "    }\n",
       "\n",
       "    // from https://stackoverflow.com/q/1114465\n",
       "    var boundingRect = this.canvas.getBoundingClientRect();\n",
       "    var x = (event.clientX - boundingRect.left) * this.ratio;\n",
       "    var y = (event.clientY - boundingRect.top) * this.ratio;\n",
       "\n",
       "    this.send_message(name, {\n",
       "        x: x,\n",
       "        y: y,\n",
       "        button: event.button,\n",
       "        step: event.step,\n",
       "        modifiers: getModifiers(event),\n",
       "        guiEvent: simpleKeys(event),\n",
       "    });\n",
       "\n",
       "    return false;\n",
       "};\n",
       "\n",
       "mpl.figure.prototype._key_event_extra = function (_event, _name) {\n",
       "    // Handle any extra behaviour associated with a key event\n",
       "};\n",
       "\n",
       "mpl.figure.prototype.key_event = function (event, name) {\n",
       "    // Prevent repeat events\n",
       "    if (name === 'key_press') {\n",
       "        if (event.key === this._key) {\n",
       "            return;\n",
       "        } else {\n",
       "            this._key = event.key;\n",
       "        }\n",
       "    }\n",
       "    if (name === 'key_release') {\n",
       "        this._key = null;\n",
       "    }\n",
       "\n",
       "    var value = '';\n",
       "    if (event.ctrlKey && event.key !== 'Control') {\n",
       "        value += 'ctrl+';\n",
       "    }\n",
       "    else if (event.altKey && event.key !== 'Alt') {\n",
       "        value += 'alt+';\n",
       "    }\n",
       "    else if (event.shiftKey && event.key !== 'Shift') {\n",
       "        value += 'shift+';\n",
       "    }\n",
       "\n",
       "    value += 'k' + event.key;\n",
       "\n",
       "    this._key_event_extra(event, name);\n",
       "\n",
       "    this.send_message(name, { key: value, guiEvent: simpleKeys(event) });\n",
       "    return false;\n",
       "};\n",
       "\n",
       "mpl.figure.prototype.toolbar_button_onclick = function (name) {\n",
       "    if (name === 'download') {\n",
       "        this.handle_save(this, null);\n",
       "    } else {\n",
       "        this.send_message('toolbar_button', { name: name });\n",
       "    }\n",
       "};\n",
       "\n",
       "mpl.figure.prototype.toolbar_button_onmouseover = function (tooltip) {\n",
       "    this.message.textContent = tooltip;\n",
       "};\n",
       "\n",
       "///////////////// REMAINING CONTENT GENERATED BY embed_js.py /////////////////\n",
       "// prettier-ignore\n",
       "var _JSXTOOLS_RESIZE_OBSERVER=function(A){var t,i=new WeakMap,n=new WeakMap,a=new WeakMap,r=new WeakMap,o=new Set;function s(e){if(!(this instanceof s))throw new TypeError(\"Constructor requires 'new' operator\");i.set(this,e)}function h(){throw new TypeError(\"Function is not a constructor\")}function c(e,t,i,n){e=0 in arguments?Number(arguments[0]):0,t=1 in arguments?Number(arguments[1]):0,i=2 in arguments?Number(arguments[2]):0,n=3 in arguments?Number(arguments[3]):0,this.right=(this.x=this.left=e)+(this.width=i),this.bottom=(this.y=this.top=t)+(this.height=n),Object.freeze(this)}function d(){t=requestAnimationFrame(d);var s=new WeakMap,p=new Set;o.forEach((function(t){r.get(t).forEach((function(i){var r=t instanceof window.SVGElement,o=a.get(t),d=r?0:parseFloat(o.paddingTop),f=r?0:parseFloat(o.paddingRight),l=r?0:parseFloat(o.paddingBottom),u=r?0:parseFloat(o.paddingLeft),g=r?0:parseFloat(o.borderTopWidth),m=r?0:parseFloat(o.borderRightWidth),w=r?0:parseFloat(o.borderBottomWidth),b=u+f,F=d+l,v=(r?0:parseFloat(o.borderLeftWidth))+m,W=g+w,y=r?0:t.offsetHeight-W-t.clientHeight,E=r?0:t.offsetWidth-v-t.clientWidth,R=b+v,z=F+W,M=r?t.width:parseFloat(o.width)-R-E,O=r?t.height:parseFloat(o.height)-z-y;if(n.has(t)){var k=n.get(t);if(k[0]===M&&k[1]===O)return}n.set(t,[M,O]);var S=Object.create(h.prototype);S.target=t,S.contentRect=new c(u,d,M,O),s.has(i)||(s.set(i,[]),p.add(i)),s.get(i).push(S)}))})),p.forEach((function(e){i.get(e).call(e,s.get(e),e)}))}return s.prototype.observe=function(i){if(i instanceof window.Element){r.has(i)||(r.set(i,new Set),o.add(i),a.set(i,window.getComputedStyle(i)));var n=r.get(i);n.has(this)||n.add(this),cancelAnimationFrame(t),t=requestAnimationFrame(d)}},s.prototype.unobserve=function(i){if(i instanceof window.Element&&r.has(i)){var n=r.get(i);n.has(this)&&(n.delete(this),n.size||(r.delete(i),o.delete(i))),n.size||r.delete(i),o.size||cancelAnimationFrame(t)}},A.DOMRectReadOnly=c,A.ResizeObserver=s,A.ResizeObserverEntry=h,A}; // eslint-disable-line\n",
       "mpl.toolbar_items = [[\"Home\", \"Reset original view\", \"fa fa-home\", \"home\"], [\"Back\", \"Back to previous view\", \"fa fa-arrow-left\", \"back\"], [\"Forward\", \"Forward to next view\", \"fa fa-arrow-right\", \"forward\"], [\"\", \"\", \"\", \"\"], [\"Pan\", \"Left button pans, Right button zooms\\nx/y fixes axis, CTRL fixes aspect\", \"fa fa-arrows\", \"pan\"], [\"Zoom\", \"Zoom to rectangle\\nx/y fixes axis\", \"fa fa-square-o\", \"zoom\"], [\"\", \"\", \"\", \"\"], [\"Download\", \"Download plot\", \"fa fa-floppy-o\", \"download\"]];\n",
       "\n",
       "mpl.extensions = [\"eps\", \"jpeg\", \"pgf\", \"pdf\", \"png\", \"ps\", \"raw\", \"svg\", \"tif\", \"webp\"];\n",
       "\n",
       "mpl.default_extension = \"png\";/* global mpl */\n",
       "\n",
       "var comm_websocket_adapter = function (comm) {\n",
       "    // Create a \"websocket\"-like object which calls the given IPython comm\n",
       "    // object with the appropriate methods. Currently this is a non binary\n",
       "    // socket, so there is still some room for performance tuning.\n",
       "    var ws = {};\n",
       "\n",
       "    ws.binaryType = comm.kernel.ws.binaryType;\n",
       "    ws.readyState = comm.kernel.ws.readyState;\n",
       "    function updateReadyState(_event) {\n",
       "        if (comm.kernel.ws) {\n",
       "            ws.readyState = comm.kernel.ws.readyState;\n",
       "        } else {\n",
       "            ws.readyState = 3; // Closed state.\n",
       "        }\n",
       "    }\n",
       "    comm.kernel.ws.addEventListener('open', updateReadyState);\n",
       "    comm.kernel.ws.addEventListener('close', updateReadyState);\n",
       "    comm.kernel.ws.addEventListener('error', updateReadyState);\n",
       "\n",
       "    ws.close = function () {\n",
       "        comm.close();\n",
       "    };\n",
       "    ws.send = function (m) {\n",
       "        //console.log('sending', m);\n",
       "        comm.send(m);\n",
       "    };\n",
       "    // Register the callback with on_msg.\n",
       "    comm.on_msg(function (msg) {\n",
       "        //console.log('receiving', msg['content']['data'], msg);\n",
       "        var data = msg['content']['data'];\n",
       "        if (data['blob'] !== undefined) {\n",
       "            data = {\n",
       "                data: new Blob(msg['buffers'], { type: data['blob'] }),\n",
       "            };\n",
       "        }\n",
       "        // Pass the mpl event to the overridden (by mpl) onmessage function.\n",
       "        ws.onmessage(data);\n",
       "    });\n",
       "    return ws;\n",
       "};\n",
       "\n",
       "mpl.mpl_figure_comm = function (comm, msg) {\n",
       "    // This is the function which gets called when the mpl process\n",
       "    // starts-up an IPython Comm through the \"matplotlib\" channel.\n",
       "\n",
       "    var id = msg.content.data.id;\n",
       "    // Get hold of the div created by the display call when the Comm\n",
       "    // socket was opened in Python.\n",
       "    var element = document.getElementById(id);\n",
       "    var ws_proxy = comm_websocket_adapter(comm);\n",
       "\n",
       "    function ondownload(figure, _format) {\n",
       "        window.open(figure.canvas.toDataURL());\n",
       "    }\n",
       "\n",
       "    var fig = new mpl.figure(id, ws_proxy, ondownload, element);\n",
       "\n",
       "    // Call onopen now - mpl needs it, as it is assuming we've passed it a real\n",
       "    // web socket which is closed, not our websocket->open comm proxy.\n",
       "    ws_proxy.onopen();\n",
       "\n",
       "    fig.parent_element = element;\n",
       "    fig.cell_info = mpl.find_output_cell(\"<div id='\" + id + \"'></div>\");\n",
       "    if (!fig.cell_info) {\n",
       "        console.error('Failed to find cell for figure', id, fig);\n",
       "        return;\n",
       "    }\n",
       "    fig.cell_info[0].output_area.element.on(\n",
       "        'cleared',\n",
       "        { fig: fig },\n",
       "        fig._remove_fig_handler\n",
       "    );\n",
       "};\n",
       "\n",
       "mpl.figure.prototype.handle_close = function (fig, msg) {\n",
       "    var width = fig.canvas.width / fig.ratio;\n",
       "    fig.cell_info[0].output_area.element.off(\n",
       "        'cleared',\n",
       "        fig._remove_fig_handler\n",
       "    );\n",
       "    fig.resizeObserverInstance.unobserve(fig.canvas_div);\n",
       "\n",
       "    // Update the output cell to use the data from the current canvas.\n",
       "    fig.push_to_output();\n",
       "    var dataURL = fig.canvas.toDataURL();\n",
       "    // Re-enable the keyboard manager in IPython - without this line, in FF,\n",
       "    // the notebook keyboard shortcuts fail.\n",
       "    IPython.keyboard_manager.enable();\n",
       "    fig.parent_element.innerHTML =\n",
       "        '<img src=\"' + dataURL + '\" width=\"' + width + '\">';\n",
       "    fig.close_ws(fig, msg);\n",
       "};\n",
       "\n",
       "mpl.figure.prototype.close_ws = function (fig, msg) {\n",
       "    fig.send_message('closing', msg);\n",
       "    // fig.ws.close()\n",
       "};\n",
       "\n",
       "mpl.figure.prototype.push_to_output = function (_remove_interactive) {\n",
       "    // Turn the data on the canvas into data in the output cell.\n",
       "    var width = this.canvas.width / this.ratio;\n",
       "    var dataURL = this.canvas.toDataURL();\n",
       "    this.cell_info[1]['text/html'] =\n",
       "        '<img src=\"' + dataURL + '\" width=\"' + width + '\">';\n",
       "};\n",
       "\n",
       "mpl.figure.prototype.updated_canvas_event = function () {\n",
       "    // Tell IPython that the notebook contents must change.\n",
       "    IPython.notebook.set_dirty(true);\n",
       "    this.send_message('ack', {});\n",
       "    var fig = this;\n",
       "    // Wait a second, then push the new image to the DOM so\n",
       "    // that it is saved nicely (might be nice to debounce this).\n",
       "    setTimeout(function () {\n",
       "        fig.push_to_output();\n",
       "    }, 1000);\n",
       "};\n",
       "\n",
       "mpl.figure.prototype._init_toolbar = function () {\n",
       "    var fig = this;\n",
       "\n",
       "    var toolbar = document.createElement('div');\n",
       "    toolbar.classList = 'btn-toolbar';\n",
       "    this.root.appendChild(toolbar);\n",
       "\n",
       "    function on_click_closure(name) {\n",
       "        return function (_event) {\n",
       "            return fig.toolbar_button_onclick(name);\n",
       "        };\n",
       "    }\n",
       "\n",
       "    function on_mouseover_closure(tooltip) {\n",
       "        return function (event) {\n",
       "            if (!event.currentTarget.disabled) {\n",
       "                return fig.toolbar_button_onmouseover(tooltip);\n",
       "            }\n",
       "        };\n",
       "    }\n",
       "\n",
       "    fig.buttons = {};\n",
       "    var buttonGroup = document.createElement('div');\n",
       "    buttonGroup.classList = 'btn-group';\n",
       "    var button;\n",
       "    for (var toolbar_ind in mpl.toolbar_items) {\n",
       "        var name = mpl.toolbar_items[toolbar_ind][0];\n",
       "        var tooltip = mpl.toolbar_items[toolbar_ind][1];\n",
       "        var image = mpl.toolbar_items[toolbar_ind][2];\n",
       "        var method_name = mpl.toolbar_items[toolbar_ind][3];\n",
       "\n",
       "        if (!name) {\n",
       "            /* Instead of a spacer, we start a new button group. */\n",
       "            if (buttonGroup.hasChildNodes()) {\n",
       "                toolbar.appendChild(buttonGroup);\n",
       "            }\n",
       "            buttonGroup = document.createElement('div');\n",
       "            buttonGroup.classList = 'btn-group';\n",
       "            continue;\n",
       "        }\n",
       "\n",
       "        button = fig.buttons[name] = document.createElement('button');\n",
       "        button.classList = 'btn btn-default';\n",
       "        button.href = '#';\n",
       "        button.title = name;\n",
       "        button.innerHTML = '<i class=\"fa ' + image + ' fa-lg\"></i>';\n",
       "        button.addEventListener('click', on_click_closure(method_name));\n",
       "        button.addEventListener('mouseover', on_mouseover_closure(tooltip));\n",
       "        buttonGroup.appendChild(button);\n",
       "    }\n",
       "\n",
       "    if (buttonGroup.hasChildNodes()) {\n",
       "        toolbar.appendChild(buttonGroup);\n",
       "    }\n",
       "\n",
       "    // Add the status bar.\n",
       "    var status_bar = document.createElement('span');\n",
       "    status_bar.classList = 'mpl-message pull-right';\n",
       "    toolbar.appendChild(status_bar);\n",
       "    this.message = status_bar;\n",
       "\n",
       "    // Add the close button to the window.\n",
       "    var buttongrp = document.createElement('div');\n",
       "    buttongrp.classList = 'btn-group inline pull-right';\n",
       "    button = document.createElement('button');\n",
       "    button.classList = 'btn btn-mini btn-primary';\n",
       "    button.href = '#';\n",
       "    button.title = 'Stop Interaction';\n",
       "    button.innerHTML = '<i class=\"fa fa-power-off icon-remove icon-large\"></i>';\n",
       "    button.addEventListener('click', function (_evt) {\n",
       "        fig.handle_close(fig, {});\n",
       "    });\n",
       "    button.addEventListener(\n",
       "        'mouseover',\n",
       "        on_mouseover_closure('Stop Interaction')\n",
       "    );\n",
       "    buttongrp.appendChild(button);\n",
       "    var titlebar = this.root.querySelector('.ui-dialog-titlebar');\n",
       "    titlebar.insertBefore(buttongrp, titlebar.firstChild);\n",
       "};\n",
       "\n",
       "mpl.figure.prototype._remove_fig_handler = function (event) {\n",
       "    var fig = event.data.fig;\n",
       "    if (event.target !== this) {\n",
       "        // Ignore bubbled events from children.\n",
       "        return;\n",
       "    }\n",
       "    fig.close_ws(fig, {});\n",
       "};\n",
       "\n",
       "mpl.figure.prototype._root_extra_style = function (el) {\n",
       "    el.style.boxSizing = 'content-box'; // override notebook setting of border-box.\n",
       "};\n",
       "\n",
       "mpl.figure.prototype._canvas_extra_style = function (el) {\n",
       "    // this is important to make the div 'focusable\n",
       "    el.setAttribute('tabindex', 0);\n",
       "    // reach out to IPython and tell the keyboard manager to turn it's self\n",
       "    // off when our div gets focus\n",
       "\n",
       "    // location in version 3\n",
       "    if (IPython.notebook.keyboard_manager) {\n",
       "        IPython.notebook.keyboard_manager.register_events(el);\n",
       "    } else {\n",
       "        // location in version 2\n",
       "        IPython.keyboard_manager.register_events(el);\n",
       "    }\n",
       "};\n",
       "\n",
       "mpl.figure.prototype._key_event_extra = function (event, _name) {\n",
       "    // Check for shift+enter\n",
       "    if (event.shiftKey && event.which === 13) {\n",
       "        this.canvas_div.blur();\n",
       "        // select the cell after this one\n",
       "        var index = IPython.notebook.find_cell_index(this.cell_info[0]);\n",
       "        IPython.notebook.select(index + 1);\n",
       "    }\n",
       "};\n",
       "\n",
       "mpl.figure.prototype.handle_save = function (fig, _msg) {\n",
       "    fig.ondownload(fig, null);\n",
       "};\n",
       "\n",
       "mpl.find_output_cell = function (html_output) {\n",
       "    // Return the cell and output element which can be found *uniquely* in the notebook.\n",
       "    // Note - this is a bit hacky, but it is done because the \"notebook_saving.Notebook\"\n",
       "    // IPython event is triggered only after the cells have been serialised, which for\n",
       "    // our purposes (turning an active figure into a static one), is too late.\n",
       "    var cells = IPython.notebook.get_cells();\n",
       "    var ncells = cells.length;\n",
       "    for (var i = 0; i < ncells; i++) {\n",
       "        var cell = cells[i];\n",
       "        if (cell.cell_type === 'code') {\n",
       "            for (var j = 0; j < cell.output_area.outputs.length; j++) {\n",
       "                var data = cell.output_area.outputs[j];\n",
       "                if (data.data) {\n",
       "                    // IPython >= 3 moved mimebundle to data attribute of output\n",
       "                    data = data.data;\n",
       "                }\n",
       "                if (data['text/html'] === html_output) {\n",
       "                    return [cell, data, j];\n",
       "                }\n",
       "            }\n",
       "        }\n",
       "    }\n",
       "};\n",
       "\n",
       "// Register the function which deals with the matplotlib target/channel.\n",
       "// The kernel may be null if the page has been refreshed.\n",
       "if (IPython.notebook.kernel !== null) {\n",
       "    IPython.notebook.kernel.comm_manager.register_target(\n",
       "        'matplotlib',\n",
       "        mpl.mpl_figure_comm\n",
       "    );\n",
       "}\n"
      ],
      "text/plain": [
       "<IPython.core.display.Javascript object>"
      ]
     },
     "metadata": {},
     "output_type": "display_data"
    },
    {
     "data": {
      "text/html": [
       "<img src=\"data:image/png;base64,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\" width=\"640\">"
      ],
      "text/plain": [
       "<IPython.core.display.HTML object>"
      ]
     },
     "metadata": {},
     "output_type": "display_data"
    },
    {
     "name": "stdout",
     "output_type": "stream",
     "text": [
      "\u001b[1m13/13\u001b[0m \u001b[32m━━━━━━━━━━━━━━━━━━━━\u001b[0m\u001b[37m\u001b[0m \u001b[1m0s\u001b[0m 733us/step\n",
      "1.1118976\n"
     ]
    },
    {
     "data": {
      "text/plain": [
       "(0.0, 80.0)"
      ]
     },
     "execution_count": 86,
     "metadata": {},
     "output_type": "execute_result"
    }
   ],
   "source": [
    "%matplotlib notebook\n",
    "fig = plt.figure()\n",
    "ax = fig.add_subplot(projection='3d')\n",
    "ax.set_xlabel('age')\n",
    "ax.set_ylabel('height')\n",
    "ax.set_zlabel('weight')\n",
    "\n",
    "x_train = train['age']\n",
    "y_train = train['height']\n",
    "z_train = train['weight']\n",
    "\n",
    "x_test = test['age']\n",
    "y_test = test['height']\n",
    "z_test = test['weight']\n",
    "\n",
    "ax.scatter(x_train, y_train, z_train, label='train', color='blue')\n",
    "ax.scatter(x_test, y_test, z_test, label='test', color='orange')\n",
    "\n",
    "\n",
    "\n",
    "x = np.linspace(min(x_train), max(x_train), 20)\n",
    "y = np.linspace(min(y_train), max(y_train), 20)\n",
    "X,Y = np.meshgrid(x,y)\n",
    "\n",
    "predict_points = np.array(list(zip(np.ravel(X), np.ravel(Y))))\n",
    "Z = best_model.predict(predict_points)\n",
    "Z = Z.reshape(X.shape)\n",
    "\n",
    "print(Z.std())\n",
    "std = train['weight'].std()\n",
    "mean = train['weight'].mean()\n",
    "Z = (Z * std) + mean\n",
    "\n",
    "xo = -50\n",
    "yo = -10\n",
    "zo = 0\n",
    "\n",
    "ax.plot_surface(X,Y,Z, label='Предсказание', color='red', alpha=0.5)\n",
    "ax.contourf(X,Y,Z, zdir='z', offset=zo, alpha=0.5)\n",
    "ax.contourf(X,Y,Z, zdir='x', offset=xo, alpha=0.5)\n",
    "ax.contourf(X,Y,Z, zdir='y', offset=yo, alpha=0.5)\n",
    "\n",
    "ax.scatter(x_train, y_train, color='blue', alpha=0.5, zdir='z', zs=zo)\n",
    "ax.scatter(y_train, z_train, color='blue', alpha=0.5, zdir='x', zs=xo)\n",
    "ax.scatter(x_train, z_train, color='blue', alpha=0.5, zdir='y', zs=yo)\n",
    "\n",
    "ax.scatter(x_test, y_test, color='orange', alpha=0.5, zdir='z', zs=zo)\n",
    "ax.scatter(y_test, z_test, color='orange', alpha=0.5, zdir='x', zs=xo)\n",
    "ax.scatter(x_test, z_test, color='orange', alpha=0.5, zdir='y', zs=yo)\n",
    "\n",
    "ax.view_init(elev=20, azim=-20, roll=0)\n",
    "ax.set_xlim(xo, 100)\n",
    "ax.set_ylim(yo, 200)\n",
    "ax.set_zlim(zo, 80)\n"
   ]
  },
  {
   "cell_type": "code",
   "execution_count": null,
   "metadata": {},
   "outputs": [],
   "source": []
  }
 ],
 "metadata": {
  "colab": {
   "name": "Lab_report.ipynb",
   "provenance": []
  },
  "kernelspec": {
   "display_name": "Python 3 (ipykernel)",
   "language": "python",
   "name": "python3"
  },
  "language_info": {
   "codemirror_mode": {
    "name": "ipython",
    "version": 3
   },
   "file_extension": ".py",
   "mimetype": "text/x-python",
   "name": "python",
   "nbconvert_exporter": "python",
   "pygments_lexer": "ipython3",
   "version": "3.11.8"
  }
 },
 "nbformat": 4,
 "nbformat_minor": 4
}
